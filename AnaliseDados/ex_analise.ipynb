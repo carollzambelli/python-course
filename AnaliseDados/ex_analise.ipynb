{
 "cells": [
  {
   "cell_type": "markdown",
   "metadata": {},
   "source": [
    "### Análise de Dados\n",
    "\n",
    "**Objetivos**\n",
    "- Analisar as variávies com relação a resposta (Churn)\n",
    "- Interpretar o comportamento dos dados"
   ]
  },
  {
   "cell_type": "code",
   "execution_count": 2,
   "metadata": {},
   "outputs": [],
   "source": [
    "import pandas as pd \n",
    "import matplotlib.pyplot as plt\n",
    "import seaborn as sns \n",
    "from scipy.stats.contingency import association\n",
    "import warnings\n",
    "warnings.simplefilter(action='ignore', category=FutureWarning)\n",
    "warnings.simplefilter(action='ignore', category=UserWarning)"
   ]
  },
  {
   "cell_type": "code",
   "execution_count": 3,
   "metadata": {},
   "outputs": [],
   "source": [
    "df = pd.read_csv(\"../Dados/telco_dataset.csv\")"
   ]
  },
  {
   "cell_type": "code",
   "execution_count": null,
   "metadata": {},
   "outputs": [],
   "source": [
    "df.head(3)"
   ]
  },
  {
   "cell_type": "code",
   "execution_count": null,
   "metadata": {},
   "outputs": [],
   "source": [
    "df.columns"
   ]
  },
  {
   "cell_type": "code",
   "execution_count": null,
   "metadata": {},
   "outputs": [],
   "source": [
    "df.shape"
   ]
  },
  {
   "cell_type": "markdown",
   "metadata": {},
   "source": [
    "#### Criando Funções Auxiliares"
   ]
  },
  {
   "cell_type": "code",
   "execution_count": 5,
   "metadata": {},
   "outputs": [],
   "source": [
    "def plt_percentages(feature, df):\n",
    "    g = df.groupby(feature)[\"Churn\"].value_counts().to_frame().reset_index()\n",
    "    g[\"% clientes\"] = g[\"count\"]/len(df)\n",
    "    plt.figure(figsize=(10, 4.5))\n",
    "    ax = sns.barplot(x=feature, y= \"% clientes\", hue='Churn', data=g, palette=\"PuBu\")\n",
    "    ax.set_yticklabels(['{:,.0%}'.format(y) for y in ax.get_yticks()])\n",
    "    ax.plot()"
   ]
  },
  {
   "cell_type": "markdown",
   "metadata": {},
   "source": [
    "#### Gender & SeniorCitizen"
   ]
  },
  {
   "cell_type": "code",
   "execution_count": null,
   "metadata": {},
   "outputs": [],
   "source": [
    "plt_percentages(\"gender\", df)"
   ]
  },
  {
   "cell_type": "code",
   "execution_count": null,
   "metadata": {},
   "outputs": [],
   "source": [
    "plt_percentages(\"SeniorCitizen\", df)"
   ]
  },
  {
   "cell_type": "markdown",
   "metadata": {},
   "source": [
    "#### Partners & Dependents"
   ]
  },
  {
   "cell_type": "code",
   "execution_count": null,
   "metadata": {},
   "outputs": [],
   "source": [
    "fig, axis = plt.subplots(1, 2, figsize=(12,4))\n",
    "axis[0].set_title(\"Partners\")\n",
    "axis[1].set_title(\"Dependents\")\n",
    "axis_y = \"percentage of customers\"\n",
    "\n",
    "# Partner\n",
    "gp_partner = df.groupby('Partner')[\"Churn\"].value_counts()/len(df)\n",
    "gp_partner = gp_partner.to_frame().reset_index().rename(columns={\"count\": axis_y})\n",
    "ax = sns.barplot(x='Partner', y= axis_y, hue='Churn', data=gp_partner, ax=axis[0], palette = \"flare\")\n",
    "\n",
    "# Dependents\n",
    "gp_dep = df.groupby('Dependents')[\"Churn\"].value_counts()/len(df)\n",
    "gp_dep = gp_dep.to_frame().reset_index().rename(columns={\"count\": axis_y})\n",
    "ax = sns.barplot(x='Dependents', y= axis_y, hue='Churn', data=gp_dep, ax=axis[1], palette = \"flare\")"
   ]
  },
  {
   "cell_type": "markdown",
   "metadata": {},
   "source": [
    "#### Telefone e Serviços de Internet"
   ]
  },
  {
   "cell_type": "code",
   "execution_count": null,
   "metadata": {},
   "outputs": [],
   "source": [
    "plt_percentages(\"MultipleLines\", df)"
   ]
  },
  {
   "cell_type": "code",
   "execution_count": null,
   "metadata": {},
   "outputs": [],
   "source": [
    "plt_percentages(\"PhoneService\", df)"
   ]
  },
  {
   "cell_type": "code",
   "execution_count": null,
   "metadata": {},
   "outputs": [],
   "source": [
    "plt_percentages(\"InternetService\", df)"
   ]
  },
  {
   "cell_type": "markdown",
   "metadata": {},
   "source": [
    "#### Serviços adicionais de Internet"
   ]
  },
  {
   "cell_type": "code",
   "execution_count": null,
   "metadata": {},
   "outputs": [],
   "source": [
    "cols = [\"OnlineSecurity\", \"OnlineBackup\", \"DeviceProtection\", \"TechSupport\", \"StreamingTV\", \"StreamingMovies\"]\n",
    "df1 = pd.melt(df[df[\"InternetService\"] != \"No\"][cols]).rename({'value': 'Has service'}, axis=1)\n",
    "df1.head()"
   ]
  },
  {
   "cell_type": "code",
   "execution_count": null,
   "metadata": {},
   "outputs": [],
   "source": [
    "plt.figure(figsize=(10, 4.5))\n",
    "ax = sns.countplot(data=df1, x='variable', hue='Has service', palette=\"pastel\")\n",
    "ax.set(xlabel='Additional service', ylabel='Num of customers')\n",
    "plt.show()"
   ]
  },
  {
   "cell_type": "code",
   "execution_count": null,
   "metadata": {},
   "outputs": [],
   "source": [
    "plt_percentages(\"OnlineSecurity\", df)"
   ]
  },
  {
   "cell_type": "markdown",
   "metadata": {},
   "source": [
    "#### Contrato e Pagamento"
   ]
  },
  {
   "cell_type": "code",
   "execution_count": null,
   "metadata": {},
   "outputs": [],
   "source": [
    "plt_percentages(\"PaperlessBilling\", df)"
   ]
  },
  {
   "cell_type": "code",
   "execution_count": null,
   "metadata": {},
   "outputs": [],
   "source": [
    "plt_percentages(\"PaymentMethod\", df)"
   ]
  },
  {
   "cell_type": "code",
   "execution_count": null,
   "metadata": {},
   "outputs": [],
   "source": [
    "plt_percentages(\"PaymentMethod\", df[df['SeniorCitizen'] == 1])"
   ]
  },
  {
   "cell_type": "code",
   "execution_count": null,
   "metadata": {},
   "outputs": [],
   "source": [
    "plt_percentages(\"Contract\", df)"
   ]
  },
  {
   "cell_type": "markdown",
   "metadata": {},
   "source": [
    "### Análise das Variáveis Numéricas"
   ]
  },
  {
   "cell_type": "code",
   "execution_count": null,
   "metadata": {},
   "outputs": [],
   "source": [
    "# Uma outra forma de ver a distribuição. Desta vez separando pela variável target\n",
    "fig=plt.figure(figsize=(14, 5))\n",
    "fig = plt.subplot(131)\n",
    "sns.histplot(df[df['Churn'] == \"No\"][\"tenure\"],label='No Churn', color='#512b58') \n",
    "sns.histplot(df[df['Churn'] == \"Yes\"][\"tenure\"],label='Churn', color='#fe346e')\n",
    "plt.legend()\n",
    "\n",
    "fig = plt.subplot(132)\n",
    "sns.histplot(df[df['Churn'] == \"No\"][\"MonthlyCharges\"], label='No Churn', color='#512b58') \n",
    "sns.histplot(df[df['Churn'] == \"Yes\"][\"MonthlyCharges\"], label='Churn', color='#fe346e') \n",
    "plt.legend()\n",
    "\n",
    "fig = plt.subplot(133)\n",
    "sns.histplot(df[df['Churn'] == \"No\"][\"TotalCharges\"], label='No Churn', color='#512b58') \n",
    "sns.histplot(df[df['Churn'] == \"Yes\"][\"TotalCharges\"], label='Churn', color='#fe346e') \n",
    "plt.legend()"
   ]
  },
  {
   "cell_type": "code",
   "execution_count": null,
   "metadata": {},
   "outputs": [],
   "source": [
    "ax = sns.catplot(x=\"Contract\", y=\"MonthlyCharges\", hue=\"Churn\", kind=\"box\", data=df)"
   ]
  },
  {
   "cell_type": "code",
   "execution_count": null,
   "metadata": {},
   "outputs": [],
   "source": [
    "corr = df[[\"tenure\", \"MonthlyCharges\", \"TotalCharges\", \"Churn\"]].apply(lambda x: pd.factorize(x)[0]).corr()\n",
    "ax = sns.heatmap(corr, xticklabels=corr.columns, yticklabels=corr.columns, \n",
    "                 linewidths=.2, cmap=\"YlGnBu\")"
   ]
  }
 ],
 "metadata": {
  "kernelspec": {
   "display_name": "base",
   "language": "python",
   "name": "python3"
  },
  "language_info": {
   "codemirror_mode": {
    "name": "ipython",
    "version": 3
   },
   "file_extension": ".py",
   "mimetype": "text/x-python",
   "name": "python",
   "nbconvert_exporter": "python",
   "pygments_lexer": "ipython3",
   "version": "3.12.4"
  }
 },
 "nbformat": 4,
 "nbformat_minor": 2
}
