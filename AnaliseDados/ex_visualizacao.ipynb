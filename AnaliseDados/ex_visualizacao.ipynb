{
 "cells": [
  {
   "cell_type": "code",
   "execution_count": null,
   "metadata": {},
   "outputs": [],
   "source": [
    "import numpy as np\n",
    "import pandas as pd\n",
    "import seaborn as sns\n",
    "import matplotlib.pyplot as plt\n",
    "import warnings\n",
    "warnings.simplefilter(action='ignore', category=FutureWarning)\n",
    "warnings.simplefilter(action='ignore', category=UserWarning)"
   ]
  },
  {
   "cell_type": "code",
   "execution_count": null,
   "metadata": {},
   "outputs": [],
   "source": [
    "df = pd.read_csv(\"https://raw.githubusercontent.com/JackyP/testing/master/datasets/nycflights.csv\", index_col=0)\n",
    "df[\"data\"] = pd.to_datetime(df[['year', 'month', 'day']]) \n",
    "df.head()"
   ]
  },
  {
   "cell_type": "markdown",
   "metadata": {},
   "source": [
    "### 1. Será que tem uma companhia que atrasa mais ou menos? Será que tem relação com mês?"
   ]
  },
  {
   "cell_type": "markdown",
   "metadata": {},
   "source": [
    "*MAPA DE CALOR: Compara valores de um indicador numérico entre grupos baseados em outros 2 indicadores, por meio de uma matriz de cores.*"
   ]
  },
  {
   "cell_type": "code",
   "execution_count": null,
   "metadata": {},
   "outputs": [],
   "source": [
    "tmp = df.pivot_table(index='month', columns='carrier', values=\"arr_delay\", aggfunc=\"mean\")\n",
    "tmp.fillna(0, inplace=True) \n",
    "plt.figure(figsize=(12, 6))\n",
    "sns.heatmap(tmp, linecolor='white', linewidth=1, cmap=\"Pastel1\")\n",
    "plt.title('Quantidade médio de atraso de chegada por companhia e mês');"
   ]
  },
  {
   "cell_type": "markdown",
   "metadata": {},
   "source": [
    "### 2. Quais são as origens mais frequentes?  E os destinos?\n",
    "\n",
    "Gráfico de setores : Representa frequências por grupo, tal como o gráfico de barras; mas a comparação visual dos grupos é prejudicada por envolver os aspectos de área e ângulo, especialmente se as distribuições forem semelhantes."
   ]
  },
  {
   "cell_type": "code",
   "execution_count": null,
   "metadata": {},
   "outputs": [],
   "source": [
    "plt.pie(\n",
    "    dict(df['origin'].value_counts()).values(),\n",
    "    labels=dict(df['origin'].value_counts()).keys()\n",
    "    );"
   ]
  },
  {
   "cell_type": "code",
   "execution_count": null,
   "metadata": {},
   "outputs": [],
   "source": [
    "df.groupby(\"origin\").count()"
   ]
  },
  {
   "cell_type": "code",
   "execution_count": null,
   "metadata": {},
   "outputs": [],
   "source": [
    "# A partir de um dataframe\n",
    "tmp = pd.DataFrame(df.groupby(\"origin\").count())\n",
    "tmp.plot.pie(y='day',\n",
    "             autopct='%1.2f%%',\n",
    "             #explode = (0.1, 0, 0),\n",
    "             ylabel='',\n",
    "             fontsize=10,\n",
    "             figsize=(8,6)\n",
    "             );"
   ]
  },
  {
   "cell_type": "markdown",
   "metadata": {},
   "source": [
    "Gráfico de roscas : Versão alternativa do gráfico de setores, um pouco mais pautada na noção de comprimento (de arcos)\n"
   ]
  },
  {
   "cell_type": "code",
   "execution_count": null,
   "metadata": {},
   "outputs": [],
   "source": [
    "tmp.plot.pie(y='day',\n",
    "             autopct='%1.2f%%',\n",
    "             ylabel='',\n",
    "             explode = (0.1, 0, 0),\n",
    "             pctdistance=0.8, # controla a posição do texto\n",
    "             fontsize=10,\n",
    "             figsize=(8,6),\n",
    "             title='Distribuição da origem dos vôos');\n",
    "circle = plt.Circle( (0,0), 0.5, color='white')\n",
    "p=plt.gcf()\n",
    "p.gca().add_artist(circle);"
   ]
  },
  {
   "cell_type": "code",
   "execution_count": null,
   "metadata": {},
   "outputs": [],
   "source": [
    "#plt.figure(figsize=(20, 12))\n",
    "\n",
    "plt.pie(dict(df['dest'].value_counts()).values(),\n",
    "         labels = dict(df['dest'].value_counts()).keys());"
   ]
  },
  {
   "cell_type": "code",
   "execution_count": null,
   "metadata": {},
   "outputs": [],
   "source": [
    "# Melhorando as legendas\n",
    "plt.pie(dict(df['dest'].value_counts()).values())\n",
    "plt.legend(labels = dict(df['dest'].value_counts()).keys(),\n",
    "           loc='upper right', ncol = 5, bbox_to_anchor=[2.5, 1], fontsize=9);"
   ]
  },
  {
   "cell_type": "markdown",
   "metadata": {},
   "source": [
    "### 3. Será que tem uma companhia que atrasa (chegada e partida) mais ou menos? \n",
    "\n",
    "Gráfico de bolhas :  Semelhante a um gráfico de dispersão, mas incorpora um terceiro indicador numérico, representado pelas áreas das bolhas"
   ]
  },
  {
   "cell_type": "code",
   "execution_count": null,
   "metadata": {},
   "outputs": [],
   "source": [
    "tmp = df.groupby([\"carrier\"])[[\"dep_delay\", \"arr_delay\"]].mean().reset_index()\n",
    "sns.set_theme(style=\"darkgrid\")\n",
    "\n",
    "sns.scatterplot(\n",
    "    data=tmp,\n",
    "    x=\"carrier\",\n",
    "    y=\"arr_delay\",\n",
    "    size=\"dep_delay\",\n",
    "    legend=False,\n",
    "    sizes=(20, 2000)\n",
    ");"
   ]
  },
  {
   "cell_type": "markdown",
   "metadata": {},
   "source": [
    "### 4. Representatividade das companhias\n",
    "\n",
    "Barra simples, utilizado para :\n",
    "- Representar frequências absolutas ou relativas (%) associadas às categorias de um indicador.\n",
    "- Comparar valores de um indicador numérico com quebra de grupos.\n",
    "- Evolução de um indicador numérico ao longo do tempo."
   ]
  },
  {
   "cell_type": "code",
   "execution_count": null,
   "metadata": {},
   "outputs": [],
   "source": [
    "plt.bar(\n",
    "    list(dict(df['carrier'].value_counts()).keys()),\n",
    "    list(dict(df['carrier'].value_counts()).values())\n",
    "    );"
   ]
  },
  {
   "cell_type": "code",
   "execution_count": null,
   "metadata": {},
   "outputs": [],
   "source": [
    "fig, ax = plt.subplots(figsize = (12,4))\n",
    "ax.bar(\n",
    "    list(dict(df['carrier'].value_counts()).keys()),\n",
    "    list(dict(df['carrier'].value_counts()).values()),\n",
    "    color = \"#4CAF50\",\n",
    "    width=.5,\n",
    "    )\n",
    "ax.bar_label(ax.containers[0], label_type='edge', color = \"blue\", rotation = 90)\n",
    "ax.set_ylabel('Quantidade de vôos')\n",
    "ax.set_title('Quantidade de vôos por companhia');"
   ]
  },
  {
   "cell_type": "markdown",
   "metadata": {},
   "source": [
    "### 5. Será que as companhias que voam mais, voam por mais tempo? Será que tem companhia que só voa em uma origem?\n",
    "\n",
    "Barras empilhadas:\n",
    "-  Representação de frequências relacionadas a 2+ grupos, ao longo do tempo ou não.\n",
    "-  Pode-se representar frequências relativas (%), de forma que todas as barras somem 100%\n"
   ]
  },
  {
   "cell_type": "code",
   "execution_count": null,
   "metadata": {},
   "outputs": [],
   "source": [
    "tmp = df.pivot_table(index='carrier', columns='origin', values='air_time', aggfunc=\"sum\").reset_index()\n",
    "tmp.plot(x='carrier', kind='barh', stacked=True, \n",
    "         title='Tempo de vôo por companhia', \n",
    "         width=.9,\n",
    "         );"
   ]
  },
  {
   "cell_type": "markdown",
   "metadata": {},
   "source": [
    "Barra simples agrupado: podem ser úteis quando há 2 ou mais públicos ou indicadores para comparar"
   ]
  },
  {
   "cell_type": "code",
   "execution_count": null,
   "metadata": {},
   "outputs": [],
   "source": [
    "tmp.plot(x='carrier', kind='bar', stacked=False, \n",
    "         title='Tempo de vôo por companhia', \n",
    "         figsize=(15,4),\n",
    "         width=.7,\n",
    "         ylim=(0, 10000000) # ajuste para ficar com o mesmo limite do de cima\n",
    "         );"
   ]
  },
  {
   "cell_type": "markdown",
   "metadata": {},
   "source": [
    "### 6. Será que a origem interfere nos atrasos?\n",
    "Gráfico de linhas\n",
    "-  Ideal para representar evolução de um indicador numérico ao longo do tempo, devido à noção de direção: aumento/redução.\n",
    "- Pode ser utilizado para comparar a evolução por grupo, desde que não haja muitas intersecções entre as linhas.\n",
    "-  Funciona melhor que o gráfico de barras para evoluções, especialmente quando há alta quantidade de pontos."
   ]
  },
  {
   "cell_type": "code",
   "execution_count": null,
   "metadata": {},
   "outputs": [],
   "source": [
    "tmp = df.groupby([\"data\",\"origin\"])[\"dep_delay\"].mean().reset_index()\n",
    "plt.figure(figsize=(15,4))\n",
    "plt.title(\"Atraso médio por origem\")\n",
    "sns.lineplot(data=tmp, x=\"data\",y='dep_delay', hue='origin');"
   ]
  },
  {
   "cell_type": "markdown",
   "metadata": {},
   "source": [
    "### 7. Quem atrasa para partir atrasa para chegar?\n",
    "\n",
    "Gráficos de dispersão: Utilizado para avaliar relações entre dois indicadores numéricos"
   ]
  },
  {
   "cell_type": "code",
   "execution_count": null,
   "metadata": {},
   "outputs": [],
   "source": [
    "sns.set_style(\"whitegrid\")\n",
    "ax = sns.scatterplot(data=df, x=\"arr_delay\", y=\"dep_delay\")\n",
    "ax.set_title(\"Relação entre atraso de partida e chegada\");"
   ]
  }
 ],
 "metadata": {
  "kernelspec": {
   "display_name": "base",
   "language": "python",
   "name": "python3"
  },
  "language_info": {
   "codemirror_mode": {
    "name": "ipython",
    "version": 3
   },
   "file_extension": ".py",
   "mimetype": "text/x-python",
   "name": "python",
   "nbconvert_exporter": "python",
   "pygments_lexer": "ipython3",
   "version": "3.12.4"
  }
 },
 "nbformat": 4,
 "nbformat_minor": 2
}
