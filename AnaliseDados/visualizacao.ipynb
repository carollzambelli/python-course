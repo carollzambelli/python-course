{
 "cells": [
  {
   "cell_type": "code",
   "execution_count": 1,
   "metadata": {},
   "outputs": [],
   "source": [
    "import numpy as np\n",
    "import pandas as pd\n",
    "import seaborn as sns\n",
    "import matplotlib.pyplot as plt\n",
    "import warnings\n",
    "warnings.simplefilter(action='ignore', category=FutureWarning)\n",
    "warnings.simplefilter(action='ignore', category=UserWarning)"
   ]
  },
  {
   "cell_type": "code",
   "execution_count": 2,
   "metadata": {},
   "outputs": [
    {
     "data": {
      "text/html": [
       "<div>\n",
       "<style scoped>\n",
       "    .dataframe tbody tr th:only-of-type {\n",
       "        vertical-align: middle;\n",
       "    }\n",
       "\n",
       "    .dataframe tbody tr th {\n",
       "        vertical-align: top;\n",
       "    }\n",
       "\n",
       "    .dataframe thead th {\n",
       "        text-align: right;\n",
       "    }\n",
       "</style>\n",
       "<table border=\"1\" class=\"dataframe\">\n",
       "  <thead>\n",
       "    <tr style=\"text-align: right;\">\n",
       "      <th></th>\n",
       "      <th>year</th>\n",
       "      <th>month</th>\n",
       "      <th>day</th>\n",
       "      <th>dep_time</th>\n",
       "      <th>dep_delay</th>\n",
       "      <th>arr_time</th>\n",
       "      <th>arr_delay</th>\n",
       "      <th>carrier</th>\n",
       "      <th>tailnum</th>\n",
       "      <th>flight</th>\n",
       "      <th>origin</th>\n",
       "      <th>dest</th>\n",
       "      <th>air_time</th>\n",
       "      <th>distance</th>\n",
       "      <th>hour</th>\n",
       "      <th>minute</th>\n",
       "      <th>data</th>\n",
       "    </tr>\n",
       "  </thead>\n",
       "  <tbody>\n",
       "    <tr>\n",
       "      <th>1</th>\n",
       "      <td>2013</td>\n",
       "      <td>1</td>\n",
       "      <td>1</td>\n",
       "      <td>517.0</td>\n",
       "      <td>2.0</td>\n",
       "      <td>830.0</td>\n",
       "      <td>11.0</td>\n",
       "      <td>UA</td>\n",
       "      <td>N14228</td>\n",
       "      <td>1545</td>\n",
       "      <td>EWR</td>\n",
       "      <td>IAH</td>\n",
       "      <td>227.0</td>\n",
       "      <td>1400</td>\n",
       "      <td>5.0</td>\n",
       "      <td>17.0</td>\n",
       "      <td>2013-01-01</td>\n",
       "    </tr>\n",
       "    <tr>\n",
       "      <th>2</th>\n",
       "      <td>2013</td>\n",
       "      <td>1</td>\n",
       "      <td>1</td>\n",
       "      <td>533.0</td>\n",
       "      <td>4.0</td>\n",
       "      <td>850.0</td>\n",
       "      <td>20.0</td>\n",
       "      <td>UA</td>\n",
       "      <td>N24211</td>\n",
       "      <td>1714</td>\n",
       "      <td>LGA</td>\n",
       "      <td>IAH</td>\n",
       "      <td>227.0</td>\n",
       "      <td>1416</td>\n",
       "      <td>5.0</td>\n",
       "      <td>33.0</td>\n",
       "      <td>2013-01-01</td>\n",
       "    </tr>\n",
       "    <tr>\n",
       "      <th>3</th>\n",
       "      <td>2013</td>\n",
       "      <td>1</td>\n",
       "      <td>1</td>\n",
       "      <td>542.0</td>\n",
       "      <td>2.0</td>\n",
       "      <td>923.0</td>\n",
       "      <td>33.0</td>\n",
       "      <td>AA</td>\n",
       "      <td>N619AA</td>\n",
       "      <td>1141</td>\n",
       "      <td>JFK</td>\n",
       "      <td>MIA</td>\n",
       "      <td>160.0</td>\n",
       "      <td>1089</td>\n",
       "      <td>5.0</td>\n",
       "      <td>42.0</td>\n",
       "      <td>2013-01-01</td>\n",
       "    </tr>\n",
       "    <tr>\n",
       "      <th>4</th>\n",
       "      <td>2013</td>\n",
       "      <td>1</td>\n",
       "      <td>1</td>\n",
       "      <td>544.0</td>\n",
       "      <td>-1.0</td>\n",
       "      <td>1004.0</td>\n",
       "      <td>-18.0</td>\n",
       "      <td>B6</td>\n",
       "      <td>N804JB</td>\n",
       "      <td>725</td>\n",
       "      <td>JFK</td>\n",
       "      <td>BQN</td>\n",
       "      <td>183.0</td>\n",
       "      <td>1576</td>\n",
       "      <td>5.0</td>\n",
       "      <td>44.0</td>\n",
       "      <td>2013-01-01</td>\n",
       "    </tr>\n",
       "    <tr>\n",
       "      <th>5</th>\n",
       "      <td>2013</td>\n",
       "      <td>1</td>\n",
       "      <td>1</td>\n",
       "      <td>554.0</td>\n",
       "      <td>-6.0</td>\n",
       "      <td>812.0</td>\n",
       "      <td>-25.0</td>\n",
       "      <td>DL</td>\n",
       "      <td>N668DN</td>\n",
       "      <td>461</td>\n",
       "      <td>LGA</td>\n",
       "      <td>ATL</td>\n",
       "      <td>116.0</td>\n",
       "      <td>762</td>\n",
       "      <td>5.0</td>\n",
       "      <td>54.0</td>\n",
       "      <td>2013-01-01</td>\n",
       "    </tr>\n",
       "  </tbody>\n",
       "</table>\n",
       "</div>"
      ],
      "text/plain": [
       "   year  month  day  dep_time  dep_delay  arr_time  arr_delay carrier tailnum  \\\n",
       "1  2013      1    1     517.0        2.0     830.0       11.0      UA  N14228   \n",
       "2  2013      1    1     533.0        4.0     850.0       20.0      UA  N24211   \n",
       "3  2013      1    1     542.0        2.0     923.0       33.0      AA  N619AA   \n",
       "4  2013      1    1     544.0       -1.0    1004.0      -18.0      B6  N804JB   \n",
       "5  2013      1    1     554.0       -6.0     812.0      -25.0      DL  N668DN   \n",
       "\n",
       "   flight origin dest  air_time  distance  hour  minute       data  \n",
       "1    1545    EWR  IAH     227.0      1400   5.0    17.0 2013-01-01  \n",
       "2    1714    LGA  IAH     227.0      1416   5.0    33.0 2013-01-01  \n",
       "3    1141    JFK  MIA     160.0      1089   5.0    42.0 2013-01-01  \n",
       "4     725    JFK  BQN     183.0      1576   5.0    44.0 2013-01-01  \n",
       "5     461    LGA  ATL     116.0       762   5.0    54.0 2013-01-01  "
      ]
     },
     "execution_count": 2,
     "metadata": {},
     "output_type": "execute_result"
    }
   ],
   "source": [
    "df = pd.read_csv(\"https://raw.githubusercontent.com/JackyP/testing/master/datasets/nycflights.csv\", index_col=0)\n",
    "df[\"data\"] = pd.to_datetime(df[['year', 'month', 'day']]) \n",
    "df.head()"
   ]
  },
  {
   "cell_type": "markdown",
   "metadata": {},
   "source": [
    "### 1. Será que tem uma companhia que atrasa mais ou menos? Será que tem relação com mês?"
   ]
  },
  {
   "cell_type": "markdown",
   "metadata": {},
   "source": [
    "*MAPA DE CALOR: Compara valores de um indicador numérico entre grupos baseados em outros 2 indicadores, por meio de uma matriz de cores.*"
   ]
  },
  {
   "cell_type": "code",
   "execution_count": null,
   "metadata": {},
   "outputs": [],
   "source": [
    "tmp = df.pivot_table(index='month', columns='carrier', values=\"arr_delay\", aggfunc=\"mean\")\n",
    "tmp.fillna(0, inplace=True) \n",
    "plt.figure(figsize=(12, 6))\n",
    "sns.heatmap(tmp, linecolor='white', linewidth=1, cmap=\"Pastel1\")\n",
    "plt.title('Quantidade médio de atraso de chegada por companhia e mês');"
   ]
  },
  {
   "cell_type": "markdown",
   "metadata": {},
   "source": [
    "### 2. Quais são as origens mais frequentes?  E os destinos?\n",
    "\n",
    "Gráfico de setores : Representa frequências por grupo, tal como o gráfico de barras; mas a comparação visual dos grupos é prejudicada por envolver os aspectos de área e ângulo, especialmente se as distribuições forem semelhantes."
   ]
  },
  {
   "cell_type": "code",
   "execution_count": null,
   "metadata": {},
   "outputs": [],
   "source": [
    "plt.pie(\n",
    "    dict(df['origin'].value_counts()).values(),\n",
    "    labels=dict(df['origin'].value_counts()).keys()\n",
    "    );"
   ]
  },
  {
   "cell_type": "code",
   "execution_count": null,
   "metadata": {},
   "outputs": [],
   "source": [
    "df.groupby(\"origin\").count()"
   ]
  },
  {
   "cell_type": "code",
   "execution_count": null,
   "metadata": {},
   "outputs": [],
   "source": [
    "# A partir de um dataframe\n",
    "tmp = pd.DataFrame(df.groupby(\"origin\").count())\n",
    "tmp.plot.pie(y='day',\n",
    "             autopct='%1.2f%%',\n",
    "             #explode = (0.1, 0, 0),\n",
    "             ylabel='',\n",
    "             fontsize=10,\n",
    "             figsize=(8,6)\n",
    "             );"
   ]
  },
  {
   "cell_type": "markdown",
   "metadata": {},
   "source": [
    "Gráfico de roscas : Versão alternativa do gráfico de setores, um pouco mais pautada na noção de comprimento (de arcos)\n"
   ]
  },
  {
   "cell_type": "code",
   "execution_count": null,
   "metadata": {},
   "outputs": [],
   "source": [
    "tmp.plot.pie(y='day',\n",
    "             autopct='%1.2f%%',\n",
    "             ylabel='',\n",
    "             explode = (0.1, 0, 0),\n",
    "             pctdistance=0.8, # controla a posição do texto\n",
    "             fontsize=10,\n",
    "             figsize=(8,6),\n",
    "             title='Distribuição da origem dos vôos');\n",
    "circle = plt.Circle( (0,0), 0.5, color='white')\n",
    "p=plt.gcf()\n",
    "p.gca().add_artist(circle);"
   ]
  },
  {
   "cell_type": "code",
   "execution_count": null,
   "metadata": {},
   "outputs": [],
   "source": [
    "#plt.figure(figsize=(20, 12))\n",
    "\n",
    "plt.pie(dict(df['dest'].value_counts()).values(),\n",
    "         labels = dict(df['dest'].value_counts()).keys());"
   ]
  },
  {
   "cell_type": "code",
   "execution_count": null,
   "metadata": {},
   "outputs": [],
   "source": [
    "# Melhorando as legendas\n",
    "plt.pie(dict(df['dest'].value_counts()).values())\n",
    "plt.legend(labels = dict(df['dest'].value_counts()).keys(),\n",
    "           loc='upper right', ncol = 5, bbox_to_anchor=[2.5, 1], fontsize=9);"
   ]
  },
  {
   "cell_type": "markdown",
   "metadata": {},
   "source": [
    "### 3. Será que tem uma companhia que atrasa (chegada e partida) mais ou menos? \n",
    "\n",
    "Gráfico de bolhas :  Semelhante a um gráfico de dispersão, mas incorpora um terceiro indicador numérico, representado pelas áreas das bolhas"
   ]
  },
  {
   "cell_type": "code",
   "execution_count": null,
   "metadata": {},
   "outputs": [],
   "source": [
    "tmp = df.groupby([\"carrier\"])[[\"dep_delay\", \"arr_delay\"]].mean().reset_index()\n",
    "sns.set_theme(style=\"darkgrid\")\n",
    "\n",
    "sns.scatterplot(\n",
    "    data=tmp,\n",
    "    x=\"carrier\",\n",
    "    y=\"arr_delay\",\n",
    "    size=\"dep_delay\",\n",
    "    legend=False,\n",
    "    sizes=(20, 2000)\n",
    ");"
   ]
  },
  {
   "cell_type": "markdown",
   "metadata": {},
   "source": [
    "### 4. Representatividade das companhias\n",
    "\n",
    "Barra simples, utilizado para :\n",
    "- Representar frequências absolutas ou relativas (%) associadas às categorias de um indicador.\n",
    "- Comparar valores de um indicador numérico com quebra de grupos.\n",
    "- Evolução de um indicador numérico ao longo do tempo."
   ]
  },
  {
   "cell_type": "code",
   "execution_count": null,
   "metadata": {},
   "outputs": [],
   "source": [
    "plt.bar(\n",
    "    list(dict(df['carrier'].value_counts()).keys()),\n",
    "    list(dict(df['carrier'].value_counts()).values())\n",
    "    );"
   ]
  },
  {
   "cell_type": "code",
   "execution_count": null,
   "metadata": {},
   "outputs": [],
   "source": [
    "fig, ax = plt.subplots(figsize = (12,4))\n",
    "ax.bar(\n",
    "    list(dict(df['carrier'].value_counts()).keys()),\n",
    "    list(dict(df['carrier'].value_counts()).values()),\n",
    "    color = \"#4CAF50\",\n",
    "    width=.5,\n",
    "    )\n",
    "ax.bar_label(ax.containers[0], label_type='edge', color = \"blue\", rotation = 90)\n",
    "ax.set_ylabel('Quantidade de vôos')\n",
    "ax.set_title('Quantidade de vôos por companhia');"
   ]
  },
  {
   "cell_type": "markdown",
   "metadata": {},
   "source": [
    "### 5. Será que as companhias que voam mais, voam por mais tempo? Será que tem companhia que só voa em uma origem?\n",
    "\n",
    "Barras empilhadas:\n",
    "-  Representação de frequências relacionadas a 2+ grupos, ao longo do tempo ou não.\n",
    "-  Pode-se representar frequências relativas (%), de forma que todas as barras somem 100%\n"
   ]
  },
  {
   "cell_type": "code",
   "execution_count": null,
   "metadata": {},
   "outputs": [],
   "source": [
    "tmp = df.pivot_table(index='carrier', columns='origin', values='air_time', aggfunc=\"sum\").reset_index()\n",
    "tmp.plot(x='carrier', kind='barh', stacked=True, \n",
    "         title='Tempo de vôo por companhia', \n",
    "         width=.9,\n",
    "         );"
   ]
  },
  {
   "cell_type": "markdown",
   "metadata": {},
   "source": [
    "Barra simples agrupado: podem ser úteis quando há 2 ou mais públicos ou indicadores para comparar"
   ]
  },
  {
   "cell_type": "code",
   "execution_count": null,
   "metadata": {},
   "outputs": [],
   "source": [
    "tmp.plot(x='carrier', kind='bar', stacked=False, \n",
    "         title='Tempo de vôo por companhia', \n",
    "         figsize=(15,4),\n",
    "         width=.7,\n",
    "         ylim=(0, 10000000) # ajuste para ficar com o mesmo limite do de cima\n",
    "         );"
   ]
  },
  {
   "cell_type": "markdown",
   "metadata": {},
   "source": [
    "### 6. Será que a origem interfere nos atrasos?\n",
    "Gráfico de linhas\n",
    "-  Ideal para representar evolução de um indicador numérico ao longo do tempo, devido à noção de direção: aumento/redução.\n",
    "- Pode ser utilizado para comparar a evolução por grupo, desde que não haja muitas intersecções entre as linhas.\n",
    "-  Funciona melhor que o gráfico de barras para evoluções, especialmente quando há alta quantidade de pontos."
   ]
  },
  {
   "cell_type": "code",
   "execution_count": null,
   "metadata": {},
   "outputs": [],
   "source": [
    "tmp = df.groupby([\"data\",\"origin\"])[\"dep_delay\"].mean().reset_index()\n",
    "plt.figure(figsize=(15,4))\n",
    "plt.title(\"Atraso médio por origem\")\n",
    "sns.lineplot(data=tmp, x=\"data\",y='dep_delay', hue='origin');"
   ]
  },
  {
   "cell_type": "markdown",
   "metadata": {},
   "source": [
    "### 7. Quem atrasa para partir atrasa para chegar?\n",
    "\n",
    "Gráficos de dispersão: Utilizado para avaliar relações entre dois indicadores numéricos"
   ]
  },
  {
   "cell_type": "code",
   "execution_count": null,
   "metadata": {},
   "outputs": [],
   "source": [
    "sns.set_style(\"whitegrid\")\n",
    "ax = sns.scatterplot(data=df, x=\"arr_delay\", y=\"dep_delay\")\n",
    "ax.set_title(\"Relação entre atraso de partida e chegada\");"
   ]
  }
 ],
 "metadata": {
  "kernelspec": {
   "display_name": "base",
   "language": "python",
   "name": "python3"
  },
  "language_info": {
   "codemirror_mode": {
    "name": "ipython",
    "version": 3
   },
   "file_extension": ".py",
   "mimetype": "text/x-python",
   "name": "python",
   "nbconvert_exporter": "python",
   "pygments_lexer": "ipython3",
   "version": "3.12.4"
  }
 },
 "nbformat": 4,
 "nbformat_minor": 2
}
