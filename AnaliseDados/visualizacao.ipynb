{
 "cells": [
  {
   "cell_type": "code",
   "execution_count": null,
   "id": "a1896149",
   "metadata": {},
   "outputs": [],
   "source": [
    "import seaborn as sns\n",
    "import matplotlib.pyplot as plt \n",
    "import numpy as np\n",
    "import pandas as pd"
   ]
  },
  {
   "cell_type": "markdown",
   "id": "8124ea40",
   "metadata": {},
   "source": [
    "#### Gráficos de Linha"
   ]
  },
  {
   "cell_type": "code",
   "execution_count": null,
   "id": "1885e515",
   "metadata": {},
   "outputs": [],
   "source": [
    "x = np.linspace(0, 10, 100)\n",
    "y = np.sin(x)"
   ]
  },
  {
   "cell_type": "code",
   "execution_count": null,
   "id": "820011b9",
   "metadata": {},
   "outputs": [],
   "source": [
    "data = pd.DataFrame({'x': x, 'y': y})\n",
    "data.head()"
   ]
  },
  {
   "cell_type": "code",
   "execution_count": null,
   "id": "04f889e4",
   "metadata": {},
   "outputs": [],
   "source": [
    "# Gráfico de Linha\n",
    "plt.plot(x, y);"
   ]
  },
  {
   "cell_type": "code",
   "execution_count": null,
   "id": "095f2e47",
   "metadata": {},
   "outputs": [],
   "source": [
    "# Customizando o gráfico de linha\n",
    "\n",
    "plt.plot(x, y, color='blue', linestyle='-', marker='o', label='Seno(x)');\n",
    "plt.xlabel('Eixo X')\n",
    "plt.ylabel('Eixo Y')\n",
    "plt.title('Gráfico de Seno')\n",
    "plt.legend()\n",
    "plt.grid(True)"
   ]
  },
  {
   "cell_type": "code",
   "execution_count": null,
   "id": "b65d02e6",
   "metadata": {},
   "outputs": [],
   "source": [
    "# Utilizando Seaborn\n",
    "plt.figure(figsize=(8, 6))\n",
    "sns.set_theme(style=\"whitegrid\")\n",
    "sns.scatterplot(x='x', y='y', data=data, color='purple', marker='*')\n",
    "plt.xlabel('Valores de X')\n",
    "plt.ylabel('Valores de Y')\n",
    "plt.title('Gráfico de Dispersão Personalizado com Seaborn')\n",
    "plt.show()"
   ]
  },
  {
   "cell_type": "markdown",
   "id": "3defa125",
   "metadata": {},
   "source": [
    "#### Gráficos de Barra"
   ]
  },
  {
   "cell_type": "code",
   "execution_count": null,
   "id": "25a2ac5f",
   "metadata": {},
   "outputs": [],
   "source": [
    "categorias = ['Categoria X', 'Categoria Y', 'Categoria Z']\n",
    "valores = [30, 45, 25]\n",
    "\n",
    "plt.barh(categorias, valores, color='lightcoral')\n",
    "plt.xlabel('Valores')\n",
    "plt.ylabel('Categorias')\n",
    "plt.title('Valores por Categoria (Horizontal)')"
   ]
  },
  {
   "cell_type": "code",
   "execution_count": null,
   "id": "00747171",
   "metadata": {},
   "outputs": [],
   "source": [
    "data_agrupada = pd.DataFrame({\n",
    "    'Grupo': ['Grupo 1', 'Grupo 1', 'Grupo 2', 'Grupo 2', 'Grupo 3', 'Grupo 3'],\n",
    "    'Série': ['Série A', 'Série B', 'Série A', 'Série B', 'Série A', 'Série B'],\n",
    "    'Valor': [20, 25, 35, 32, 30, 38]\n",
    "})\n",
    "\n",
    "sns.barplot(x='Grupo', y='Valor', hue='Série', data=data_agrupada, palette='Set2')\n",
    "plt.title('Comparação entre Séries por Grupo (Seaborn)')\n",
    "plt.ylabel('Valor')\n",
    "plt.xlabel('Grupo')\n",
    "plt.show()"
   ]
  },
  {
   "cell_type": "markdown",
   "id": "379e9409",
   "metadata": {},
   "source": [
    "#### Histograma"
   ]
  },
  {
   "cell_type": "code",
   "execution_count": null,
   "id": "5cca57b4",
   "metadata": {},
   "outputs": [],
   "source": [
    "plt.hist(data['y'], color='skyblue');"
   ]
  },
  {
   "cell_type": "code",
   "execution_count": null,
   "id": "924769f4",
   "metadata": {},
   "outputs": [],
   "source": [
    "# Histograma\n",
    "plt.figure(figsize=(10, 6))\n",
    "sns.histplot(data['y'], kde=True, color='skyblue')\n",
    "plt.title('Histograma com Curva de Densidade')\n",
    "plt.xlabel('Valores de Y')\n",
    "plt.ylabel('Frequência')\n",
    "plt.grid(axis='y', alpha=0.75)\n",
    "plt.show()"
   ]
  }
 ],
 "metadata": {
  "kernelspec": {
   "display_name": "base",
   "language": "python",
   "name": "python3"
  },
  "language_info": {
   "codemirror_mode": {
    "name": "ipython",
    "version": 3
   },
   "file_extension": ".py",
   "mimetype": "text/x-python",
   "name": "python",
   "nbconvert_exporter": "python",
   "pygments_lexer": "ipython3",
   "version": "3.12.4"
  }
 },
 "nbformat": 4,
 "nbformat_minor": 5
}
