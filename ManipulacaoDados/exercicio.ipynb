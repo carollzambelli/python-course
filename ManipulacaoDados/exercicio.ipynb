{
 "cells": [
  {
   "cell_type": "code",
   "execution_count": 1,
   "id": "726ab6e8",
   "metadata": {},
   "outputs": [],
   "source": [
    "import pandas as pd\n",
    "import unicodedata "
   ]
  },
  {
   "cell_type": "code",
   "execution_count": 2,
   "id": "f9ad8b8c",
   "metadata": {},
   "outputs": [
    {
     "data": {
      "text/html": [
       "<div>\n",
       "<style scoped>\n",
       "    .dataframe tbody tr th:only-of-type {\n",
       "        vertical-align: middle;\n",
       "    }\n",
       "\n",
       "    .dataframe tbody tr th {\n",
       "        vertical-align: top;\n",
       "    }\n",
       "\n",
       "    .dataframe thead th {\n",
       "        text-align: right;\n",
       "    }\n",
       "</style>\n",
       "<table border=\"1\" class=\"dataframe\">\n",
       "  <thead>\n",
       "    <tr style=\"text-align: right;\">\n",
       "      <th></th>\n",
       "      <th>nome</th>\n",
       "      <th>idade</th>\n",
       "      <th>e-mail</th>\n",
       "    </tr>\n",
       "  </thead>\n",
       "  <tbody>\n",
       "    <tr>\n",
       "      <th>0</th>\n",
       "      <td>Carolina da Silva</td>\n",
       "      <td>35</td>\n",
       "      <td>carolina.sil@gmail.com</td>\n",
       "    </tr>\n",
       "    <tr>\n",
       "      <th>1</th>\n",
       "      <td>gabrielly rezenDe</td>\n",
       "      <td>43</td>\n",
       "      <td>gabi_rezende@google.com</td>\n",
       "    </tr>\n",
       "    <tr>\n",
       "      <th>2</th>\n",
       "      <td>Bernardo Dias</td>\n",
       "      <td>70</td>\n",
       "      <td>bernardodias@aws.com</td>\n",
       "    </tr>\n",
       "    <tr>\n",
       "      <th>3</th>\n",
       "      <td>helena gonçalves</td>\n",
       "      <td>23</td>\n",
       "      <td>helena.gonçalves.gmail.com</td>\n",
       "    </tr>\n",
       "    <tr>\n",
       "      <th>4</th>\n",
       "      <td>Renan Caldeira</td>\n",
       "      <td>61</td>\n",
       "      <td>renan_calDEIRA@google.com</td>\n",
       "    </tr>\n",
       "    <tr>\n",
       "      <th>5</th>\n",
       "      <td>Lucca Lopes</td>\n",
       "      <td>46</td>\n",
       "      <td>lucca.com.br</td>\n",
       "    </tr>\n",
       "    <tr>\n",
       "      <th>6</th>\n",
       "      <td>André Ribeiro</td>\n",
       "      <td>39</td>\n",
       "      <td>andré_ribeiro.outlook.com.br</td>\n",
       "    </tr>\n",
       "    <tr>\n",
       "      <th>7</th>\n",
       "      <td>João Marcelo</td>\n",
       "      <td>32</td>\n",
       "      <td>joão_ma@outlook.br</td>\n",
       "    </tr>\n",
       "    <tr>\n",
       "      <th>8</th>\n",
       "      <td>Joana da Luz</td>\n",
       "      <td>22</td>\n",
       "      <td>joluz@google.com.br</td>\n",
       "    </tr>\n",
       "    <tr>\n",
       "      <th>9</th>\n",
       "      <td>Vicente Moreira</td>\n",
       "      <td>19</td>\n",
       "      <td>vicente.moreira@maxxi.com</td>\n",
       "    </tr>\n",
       "    <tr>\n",
       "      <th>10</th>\n",
       "      <td>Camila d' Rocha</td>\n",
       "      <td>51</td>\n",
       "      <td>milarocha@gmail.com</td>\n",
       "    </tr>\n",
       "    <tr>\n",
       "      <th>11</th>\n",
       "      <td>Elisa Monteiro</td>\n",
       "      <td>30</td>\n",
       "      <td>Elisa_mo23@yahoo.com.bre</td>\n",
       "    </tr>\n",
       "    <tr>\n",
       "      <th>12</th>\n",
       "      <td>Daniela Dias</td>\n",
       "      <td>43</td>\n",
       "      <td>danidias@maxxi.com</td>\n",
       "    </tr>\n",
       "    <tr>\n",
       "      <th>13</th>\n",
       "      <td>danIel Gomes</td>\n",
       "      <td>20</td>\n",
       "      <td>danieldias@aws.com</td>\n",
       "    </tr>\n",
       "    <tr>\n",
       "      <th>14</th>\n",
       "      <td>Heitor Nogueira</td>\n",
       "      <td>64</td>\n",
       "      <td>nogueira_heitor@gmail.com</td>\n",
       "    </tr>\n",
       "  </tbody>\n",
       "</table>\n",
       "</div>"
      ],
      "text/plain": [
       "                 nome  idade                        e-mail\n",
       "0   Carolina da Silva     35        carolina.sil@gmail.com\n",
       "1   gabrielly rezenDe     43       gabi_rezende@google.com\n",
       "2       Bernardo Dias     70          bernardodias@aws.com\n",
       "3    helena gonçalves     23    helena.gonçalves.gmail.com\n",
       "4      Renan Caldeira     61     renan_calDEIRA@google.com\n",
       "5         Lucca Lopes     46                  lucca.com.br\n",
       "6       André Ribeiro     39  andré_ribeiro.outlook.com.br\n",
       "7        João Marcelo     32            joão_ma@outlook.br\n",
       "8        Joana da Luz     22           joluz@google.com.br\n",
       "9     Vicente Moreira     19     vicente.moreira@maxxi.com\n",
       "10    Camila d' Rocha     51           milarocha@gmail.com\n",
       "11     Elisa Monteiro     30      Elisa_mo23@yahoo.com.bre\n",
       "12       Daniela Dias     43            danidias@maxxi.com\n",
       "13       danIel Gomes     20            danieldias@aws.com\n",
       "14    Heitor Nogueira     64     nogueira_heitor@gmail.com"
      ]
     },
     "execution_count": 2,
     "metadata": {},
     "output_type": "execute_result"
    }
   ],
   "source": [
    "df_users = pd.read_csv(\"../Dados/cadastro.csv\", encoding='latin-1', sep = \";\")\n",
    "df_users"
   ]
  },
  {
   "cell_type": "markdown",
   "id": "ae25fd2d",
   "metadata": {},
   "source": [
    "#### Exercício"
   ]
  },
  {
   "cell_type": "markdown",
   "id": "fc6f6413",
   "metadata": {},
   "source": [
    "A base cadastral acima necessita dos seguintes tratamentos:\n",
    "1. Tratamento do campo nome:\n",
    "- remover os acentos\n",
    "- remover os espaços do começo e do final da string\n",
    "- padronização para minúsculo\n",
    "2. Tratamento do campo e-mail:\n",
    "- Repetirs os tratamentos que foram aplicados no campo nome no campo e-mail.\n",
    "- Criar uma coluna com valor booleano chamada valido, sendo 1 = e-mail válido e 0 = e-mail não válido. Os e-mails válidos são aqueles que possuem @ e terminam com “.com” ou “.com.br”\n"
   ]
  },
  {
   "cell_type": "markdown",
   "id": "9f65ab1b",
   "metadata": {},
   "source": [
    "#### Solução parte 1"
   ]
  },
  {
   "cell_type": "markdown",
   "id": "86c6cefa",
   "metadata": {},
   "source": [
    "**a)** Remover os acentos."
   ]
  },
  {
   "cell_type": "code",
   "execution_count": 3,
   "id": "3fb73e31",
   "metadata": {},
   "outputs": [],
   "source": [
    "def strip_accents(s):\n",
    "    n= unicodedata.normalize('NFKD', s)  \n",
    "    s_new =  ''.join([c for c in n if not unicodedata.combining(c)]) \n",
    "    return s_new"
   ]
  },
  {
   "cell_type": "code",
   "execution_count": 4,
   "id": "c06517b8",
   "metadata": {},
   "outputs": [
    {
     "data": {
      "text/plain": [
       "0     Carolina da Silva\n",
       "1     gabrielly rezenDe\n",
       "2         Bernardo Dias\n",
       "3      helena goncalves\n",
       "4        Renan Caldeira\n",
       "5           Lucca Lopes\n",
       "6         Andre Ribeiro\n",
       "7          Joao Marcelo\n",
       "8          Joana da Luz\n",
       "9       Vicente Moreira\n",
       "10      Camila d' Rocha\n",
       "11       Elisa Monteiro\n",
       "12         Daniela Dias\n",
       "13         danIel Gomes\n",
       "14      Heitor Nogueira\n",
       "Name: nome, dtype: object"
      ]
     },
     "execution_count": 4,
     "metadata": {},
     "output_type": "execute_result"
    }
   ],
   "source": [
    "df_users[\"nome\"] = df_users[\"nome\"].apply(lambda x: strip_accents(x))\n",
    "df_users[\"nome\"]"
   ]
  },
  {
   "cell_type": "code",
   "execution_count": 5,
   "id": "e8ed8a87",
   "metadata": {},
   "outputs": [
    {
     "name": "stdout",
     "output_type": "stream",
     "text": [
      "                 nome  idade                        e-mail\n",
      "0   Carolina da Silva     35        carolina.sil@gmail.com\n",
      "1   gabrielly rezenDe     43       gabi_rezende@google.com\n",
      "2       Bernardo Dias     70          bernardodias@aws.com\n",
      "3    helena goncalves     23    helena.gonçalves.gmail.com\n",
      "4      Renan Caldeira     61     renan_calDEIRA@google.com\n",
      "5         Lucca Lopes     46                  lucca.com.br\n",
      "6       Andre Ribeiro     39  andré_ribeiro.outlook.com.br\n",
      "7        Joao Marcelo     32            joão_ma@outlook.br\n",
      "8        Joana da Luz     22           joluz@google.com.br\n",
      "9     Vicente Moreira     19     vicente.moreira@maxxi.com\n",
      "10     Camila d Rocha     51           milarocha@gmail.com\n",
      "11     Elisa Monteiro     30      Elisa_mo23@yahoo.com.bre\n",
      "12       Daniela Dias     43            danidias@maxxi.com\n",
      "13       danIel Gomes     20            danieldias@aws.com\n",
      "14    Heitor Nogueira     64     nogueira_heitor@gmail.com\n"
     ]
    }
   ],
   "source": [
    "# Substituindo tudo que não for de aA a zZ e espaço por vazio\n",
    "df_users[\"nome\"] = df_users[\"nome\"].str.replace(\"[^a-zA-Z ]\", \"\", regex=str)\n",
    "print(df_users)"
   ]
  },
  {
   "cell_type": "markdown",
   "id": "0cf5add4",
   "metadata": {},
   "source": [
    "**b)** Remover os espaços do começo e do final da string."
   ]
  },
  {
   "cell_type": "code",
   "execution_count": 6,
   "id": "8b397693",
   "metadata": {},
   "outputs": [
    {
     "name": "stdout",
     "output_type": "stream",
     "text": [
      "                 nome  idade                        e-mail\n",
      "0   Carolina da Silva     35        carolina.sil@gmail.com\n",
      "1   gabrielly rezenDe     43       gabi_rezende@google.com\n",
      "2       Bernardo Dias     70          bernardodias@aws.com\n",
      "3    helena goncalves     23    helena.gonçalves.gmail.com\n",
      "4      Renan Caldeira     61     renan_calDEIRA@google.com\n",
      "5         Lucca Lopes     46                  lucca.com.br\n",
      "6       Andre Ribeiro     39  andré_ribeiro.outlook.com.br\n",
      "7        Joao Marcelo     32            joão_ma@outlook.br\n",
      "8        Joana da Luz     22           joluz@google.com.br\n",
      "9     Vicente Moreira     19     vicente.moreira@maxxi.com\n",
      "10     Camila d Rocha     51           milarocha@gmail.com\n",
      "11     Elisa Monteiro     30      Elisa_mo23@yahoo.com.bre\n",
      "12       Daniela Dias     43            danidias@maxxi.com\n",
      "13       danIel Gomes     20            danieldias@aws.com\n",
      "14    Heitor Nogueira     64     nogueira_heitor@gmail.com\n"
     ]
    }
   ],
   "source": [
    "# Método strip remove os espaços do começo e final de todos os registros da coluna\n",
    "df_users[\"nome\"] = df_users[\"nome\"].str.strip()\n",
    "print(df_users)"
   ]
  },
  {
   "cell_type": "markdown",
   "id": "dfcc5301",
   "metadata": {},
   "source": [
    "**c)** Todas as letras em minúsculo."
   ]
  },
  {
   "cell_type": "code",
   "execution_count": 7,
   "id": "eb253de3",
   "metadata": {},
   "outputs": [
    {
     "name": "stdout",
     "output_type": "stream",
     "text": [
      "                 nome  idade                        e-mail\n",
      "0   carolina da silva     35        carolina.sil@gmail.com\n",
      "1   gabrielly rezende     43       gabi_rezende@google.com\n",
      "2       bernardo dias     70          bernardodias@aws.com\n",
      "3    helena goncalves     23    helena.gonçalves.gmail.com\n",
      "4      renan caldeira     61     renan_calDEIRA@google.com\n",
      "5         lucca lopes     46                  lucca.com.br\n",
      "6       andre ribeiro     39  andré_ribeiro.outlook.com.br\n",
      "7        joao marcelo     32            joão_ma@outlook.br\n",
      "8        joana da luz     22           joluz@google.com.br\n",
      "9     vicente moreira     19     vicente.moreira@maxxi.com\n",
      "10     camila d rocha     51           milarocha@gmail.com\n",
      "11     elisa monteiro     30      Elisa_mo23@yahoo.com.bre\n",
      "12       daniela dias     43            danidias@maxxi.com\n",
      "13       daniel gomes     20            danieldias@aws.com\n",
      "14    heitor nogueira     64     nogueira_heitor@gmail.com\n"
     ]
    }
   ],
   "source": [
    "# Método lower deixa todas as letras em minúsculo\n",
    "df_users[\"nome\"] = df_users.nome.str.lower()\n",
    "print(df_users)"
   ]
  },
  {
   "cell_type": "markdown",
   "id": "a07005c0",
   "metadata": {},
   "source": [
    "#### Solução parte 2"
   ]
  },
  {
   "cell_type": "markdown",
   "id": "446b415e",
   "metadata": {},
   "source": [
    "**a)** Aplicar os tratamentos do campo nome (1.a, 1.b e 1.c)."
   ]
  },
  {
   "cell_type": "code",
   "execution_count": 8,
   "id": "6357eb8d",
   "metadata": {},
   "outputs": [
    {
     "name": "stdout",
     "output_type": "stream",
     "text": [
      "                 nome  idade                        e-mail\n",
      "0   carolina da silva     35        carolina.sil@gmail.com\n",
      "1   gabrielly rezende     43       gabi_rezende@google.com\n",
      "2       bernardo dias     70          bernardodias@aws.com\n",
      "3    helena goncalves     23    helena.goncalves.gmail.com\n",
      "4      renan caldeira     61     renan_caldeira@google.com\n",
      "5         lucca lopes     46                  lucca.com.br\n",
      "6       andre ribeiro     39  andre_ribeiro.outlook.com.br\n",
      "7        joao marcelo     32            joao_ma@outlook.br\n",
      "8        joana da luz     22           joluz@google.com.br\n",
      "9     vicente moreira     19     vicente.moreira@maxxi.com\n",
      "10     camila d rocha     51           milarocha@gmail.com\n",
      "11     elisa monteiro     30      elisa_mo23@yahoo.com.bre\n",
      "12       daniela dias     43            danidias@maxxi.com\n",
      "13       daniel gomes     20            danieldias@aws.com\n",
      "14    heitor nogueira     64     nogueira_heitor@gmail.com\n"
     ]
    }
   ],
   "source": [
    "# Os símbolos @, _ e . são caractéres especiais válidos nesse caso. Números também são mantidos.\n",
    "df_users[\"e-mail\"] = df_users[\"e-mail\"].apply(lambda x: strip_accents(x))\n",
    "df_users[\"e-mail\"] = df_users[\"e-mail\"].str.lower().str.replace(\"[^a-zA-Z0-9 @_.]\", \"\", regex=str).str.strip()\n",
    "print(df_users)"
   ]
  },
  {
   "cell_type": "markdown",
   "id": "eaf8a31b",
   "metadata": {},
   "source": [
    "**b)** Criar uma nova coluna com valor booleano, sendo 1 = e-mail válido e 0 = e-mail não válido. Os e-mails válidos são aqueles que possuem \"@\" e terminam com “.com” ou “.com.br”."
   ]
  },
  {
   "cell_type": "code",
   "execution_count": 10,
   "id": "ca4444bd",
   "metadata": {},
   "outputs": [
    {
     "name": "stdout",
     "output_type": "stream",
     "text": [
      "                 nome  idade                        e-mail  valido\n",
      "0   carolina da silva     35        carolina.sil@gmail.com       1\n",
      "1   gabrielly rezende     43       gabi_rezende@google.com       1\n",
      "2       bernardo dias     70          bernardodias@aws.com       1\n",
      "3    helena goncalves     23    helena.goncalves.gmail.com       0\n",
      "4      renan caldeira     61     renan_caldeira@google.com       1\n",
      "5         lucca lopes     46                  lucca.com.br       0\n",
      "6       andre ribeiro     39  andre_ribeiro.outlook.com.br       0\n",
      "7        joao marcelo     32            joao_ma@outlook.br       0\n",
      "8        joana da luz     22           joluz@google.com.br       1\n",
      "9     vicente moreira     19     vicente.moreira@maxxi.com       1\n",
      "10     camila d rocha     51           milarocha@gmail.com       1\n",
      "11     elisa monteiro     30      elisa_mo23@yahoo.com.bre       0\n",
      "12       daniela dias     43            danidias@maxxi.com       1\n",
      "13       daniel gomes     20            danieldias@aws.com       1\n",
      "14    heitor nogueira     64     nogueira_heitor@gmail.com       1\n"
     ]
    }
   ],
   "source": [
    "# As substrigs 2 e 3 devem ser obrigatótiamente o final da string, por isso o $ ao final das substrings.\n",
    "substring_1 = \"@\"\n",
    "substring_2 = \".com$\"\n",
    "substring_3 = \".com.br$\"\n",
    "\n",
    "# Coluna boleana chamada valido criada. Condições: @ e .com ou @ e .com.br\n",
    "df_users[\"valido\"] = ((df_users[\"e-mail\"].str.contains(substring_1, regex = True) & df_users[\"e-mail\"].str.contains(substring_2, regex = True)) | \\\n",
    "(df_users[\"e-mail\"].str.contains(substring_1, regex = True) & df_users[\"e-mail\"].str.contains(substring_3, regex = True))).astype(int)\n",
    "print(df_users)"
   ]
  }
 ],
 "metadata": {
  "kernelspec": {
   "display_name": "base",
   "language": "python",
   "name": "python3"
  },
  "language_info": {
   "codemirror_mode": {
    "name": "ipython",
    "version": 3
   },
   "file_extension": ".py",
   "mimetype": "text/x-python",
   "name": "python",
   "nbconvert_exporter": "python",
   "pygments_lexer": "ipython3",
   "version": "3.12.4"
  }
 },
 "nbformat": 4,
 "nbformat_minor": 5
}
