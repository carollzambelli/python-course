{
 "cells": [
  {
   "cell_type": "code",
   "execution_count": 1,
   "id": "726ab6e8",
   "metadata": {},
   "outputs": [],
   "source": [
    "import pandas as pd\n",
    "import unicodedata "
   ]
  },
  {
   "cell_type": "code",
   "execution_count": 8,
   "id": "f9ad8b8c",
   "metadata": {},
   "outputs": [
    {
     "data": {
      "text/html": [
       "<div>\n",
       "<style scoped>\n",
       "    .dataframe tbody tr th:only-of-type {\n",
       "        vertical-align: middle;\n",
       "    }\n",
       "\n",
       "    .dataframe tbody tr th {\n",
       "        vertical-align: top;\n",
       "    }\n",
       "\n",
       "    .dataframe thead th {\n",
       "        text-align: right;\n",
       "    }\n",
       "</style>\n",
       "<table border=\"1\" class=\"dataframe\">\n",
       "  <thead>\n",
       "    <tr style=\"text-align: right;\">\n",
       "      <th></th>\n",
       "      <th>nome</th>\n",
       "      <th>idade</th>\n",
       "      <th>e-mail</th>\n",
       "    </tr>\n",
       "  </thead>\n",
       "  <tbody>\n",
       "    <tr>\n",
       "      <th>0</th>\n",
       "      <td>Carolina da Silva</td>\n",
       "      <td>35</td>\n",
       "      <td>carolina.sil@gmail.com</td>\n",
       "    </tr>\n",
       "    <tr>\n",
       "      <th>1</th>\n",
       "      <td>gabrielly rezenDe</td>\n",
       "      <td>43</td>\n",
       "      <td>gabi_rezende@google.com</td>\n",
       "    </tr>\n",
       "    <tr>\n",
       "      <th>2</th>\n",
       "      <td>Bernardo Dias</td>\n",
       "      <td>70</td>\n",
       "      <td>bernardodias@aws.com</td>\n",
       "    </tr>\n",
       "    <tr>\n",
       "      <th>3</th>\n",
       "      <td>helena gonçalves</td>\n",
       "      <td>23</td>\n",
       "      <td>helena.gonçalves.gmail.com</td>\n",
       "    </tr>\n",
       "    <tr>\n",
       "      <th>4</th>\n",
       "      <td>Renan Caldeira</td>\n",
       "      <td>61</td>\n",
       "      <td>renan_calDEIRA@google.com</td>\n",
       "    </tr>\n",
       "    <tr>\n",
       "      <th>5</th>\n",
       "      <td>Lucca Lopes</td>\n",
       "      <td>46</td>\n",
       "      <td>lucca.com.br</td>\n",
       "    </tr>\n",
       "    <tr>\n",
       "      <th>6</th>\n",
       "      <td>André Ribeiro</td>\n",
       "      <td>39</td>\n",
       "      <td>andré_ribeiro.outlook.com.br</td>\n",
       "    </tr>\n",
       "    <tr>\n",
       "      <th>7</th>\n",
       "      <td>João Marcelo</td>\n",
       "      <td>32</td>\n",
       "      <td>joão_ma@outlook.br</td>\n",
       "    </tr>\n",
       "    <tr>\n",
       "      <th>8</th>\n",
       "      <td>Joana da Luz</td>\n",
       "      <td>22</td>\n",
       "      <td>joluz@google.com.br</td>\n",
       "    </tr>\n",
       "    <tr>\n",
       "      <th>9</th>\n",
       "      <td>Vicente Moreira</td>\n",
       "      <td>19</td>\n",
       "      <td>vicente.moreira@maxxi.com</td>\n",
       "    </tr>\n",
       "    <tr>\n",
       "      <th>10</th>\n",
       "      <td>Camila d' Rocha</td>\n",
       "      <td>51</td>\n",
       "      <td>milarocha@gmail.com</td>\n",
       "    </tr>\n",
       "    <tr>\n",
       "      <th>11</th>\n",
       "      <td>Elisa Monteiro</td>\n",
       "      <td>30</td>\n",
       "      <td>Elisa_mo23@yahoo.com.bre</td>\n",
       "    </tr>\n",
       "    <tr>\n",
       "      <th>12</th>\n",
       "      <td>Daniela Dias</td>\n",
       "      <td>43</td>\n",
       "      <td>danidias@maxxi.com</td>\n",
       "    </tr>\n",
       "    <tr>\n",
       "      <th>13</th>\n",
       "      <td>danIel Gomes</td>\n",
       "      <td>20</td>\n",
       "      <td>danieldias@aws.com</td>\n",
       "    </tr>\n",
       "    <tr>\n",
       "      <th>14</th>\n",
       "      <td>Heitor Nogueira</td>\n",
       "      <td>64</td>\n",
       "      <td>nogueira_heitor@gmail.com</td>\n",
       "    </tr>\n",
       "  </tbody>\n",
       "</table>\n",
       "</div>"
      ],
      "text/plain": [
       "                 nome  idade                        e-mail\n",
       "0   Carolina da Silva     35        carolina.sil@gmail.com\n",
       "1   gabrielly rezenDe     43       gabi_rezende@google.com\n",
       "2       Bernardo Dias     70          bernardodias@aws.com\n",
       "3    helena gonçalves     23    helena.gonçalves.gmail.com\n",
       "4      Renan Caldeira     61     renan_calDEIRA@google.com\n",
       "5         Lucca Lopes     46                  lucca.com.br\n",
       "6       André Ribeiro     39  andré_ribeiro.outlook.com.br\n",
       "7        João Marcelo     32            joão_ma@outlook.br\n",
       "8        Joana da Luz     22           joluz@google.com.br\n",
       "9     Vicente Moreira     19     vicente.moreira@maxxi.com\n",
       "10    Camila d' Rocha     51           milarocha@gmail.com\n",
       "11     Elisa Monteiro     30      Elisa_mo23@yahoo.com.bre\n",
       "12       Daniela Dias     43            danidias@maxxi.com\n",
       "13       danIel Gomes     20            danieldias@aws.com\n",
       "14    Heitor Nogueira     64     nogueira_heitor@gmail.com"
      ]
     },
     "execution_count": 8,
     "metadata": {},
     "output_type": "execute_result"
    }
   ],
   "source": [
    "df_users = pd.read_csv(\"../Dados/cadastro.csv\", encoding='latin-1', sep = \";\")\n",
    "df_users"
   ]
  },
  {
   "cell_type": "markdown",
   "id": "ae25fd2d",
   "metadata": {},
   "source": [
    "#### Exercício"
   ]
  },
  {
   "cell_type": "markdown",
   "id": "fc6f6413",
   "metadata": {},
   "source": [
    "A base cadastral acima necessita dos seguintes tratamentos:\n",
    "1. Tratamento do campo nome:\n",
    "- remover os acentos\n",
    "- remover os espaços do começo e do final da string\n",
    "- padronização para minúsculo\n",
    "2. Tratamento do campo e-mail:\n",
    "- Repetir os tratamentos que foram aplicados no campo nome no campo e-mail.\n",
    "- Criar uma coluna com valor booleano chamada valido, sendo 1 = e-mail válido e 0 = e-mail não válido. Os e-mails válidos são aqueles que possuem @ e terminam com “.com” ou “.com.br”\n"
   ]
  },
  {
   "cell_type": "markdown",
   "id": "9f65ab1b",
   "metadata": {},
   "source": [
    "#### Solução parte 1"
   ]
  },
  {
   "cell_type": "markdown",
   "id": "86c6cefa",
   "metadata": {},
   "source": [
    "**a)** Remover os acentos."
   ]
  },
  {
   "cell_type": "code",
   "execution_count": null,
   "id": "4b05215d",
   "metadata": {},
   "outputs": [],
   "source": []
  },
  {
   "cell_type": "markdown",
   "id": "0cf5add4",
   "metadata": {},
   "source": [
    "**b)** Remover os espaços do começo e do final da string."
   ]
  },
  {
   "cell_type": "code",
   "execution_count": null,
   "id": "8b397693",
   "metadata": {},
   "outputs": [],
   "source": []
  },
  {
   "cell_type": "markdown",
   "id": "dfcc5301",
   "metadata": {},
   "source": [
    "**c)** Todas as letras em minúsculo."
   ]
  },
  {
   "cell_type": "code",
   "execution_count": null,
   "id": "eb253de3",
   "metadata": {},
   "outputs": [],
   "source": []
  },
  {
   "cell_type": "markdown",
   "id": "d48eeee9",
   "metadata": {},
   "source": [
    "Como ficaria uma função com todos os tratamentos anteriores?"
   ]
  },
  {
   "cell_type": "code",
   "execution_count": null,
   "id": "d4741557",
   "metadata": {},
   "outputs": [],
   "source": []
  },
  {
   "cell_type": "markdown",
   "id": "a07005c0",
   "metadata": {},
   "source": [
    "#### Solução parte 2"
   ]
  },
  {
   "cell_type": "markdown",
   "id": "446b415e",
   "metadata": {},
   "source": [
    "**a)** Aplicar os tratamentos do campo nome (1.a, 1.b e 1.c)."
   ]
  },
  {
   "cell_type": "code",
   "execution_count": null,
   "id": "6357eb8d",
   "metadata": {},
   "outputs": [],
   "source": []
  },
  {
   "cell_type": "markdown",
   "id": "eaf8a31b",
   "metadata": {},
   "source": [
    "**b)** Criar uma nova coluna com valor booleano, sendo 1 = e-mail válido e 0 = e-mail não válido. Os e-mails válidos são aqueles que possuem \"@\" e terminam com “.com” ou “.com.br”."
   ]
  },
  {
   "cell_type": "code",
   "execution_count": null,
   "id": "ca4444bd",
   "metadata": {},
   "outputs": [],
   "source": []
  }
 ],
 "metadata": {
  "kernelspec": {
   "display_name": "base",
   "language": "python",
   "name": "python3"
  },
  "language_info": {
   "codemirror_mode": {
    "name": "ipython",
    "version": 3
   },
   "file_extension": ".py",
   "mimetype": "text/x-python",
   "name": "python",
   "nbconvert_exporter": "python",
   "pygments_lexer": "ipython3",
   "version": "3.12.4"
  }
 },
 "nbformat": 4,
 "nbformat_minor": 5
}
