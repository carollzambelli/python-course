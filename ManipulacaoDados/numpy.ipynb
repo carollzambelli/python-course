{
 "cells": [
  {
   "cell_type": "code",
   "execution_count": 1,
   "id": "977b3c93",
   "metadata": {
    "executionInfo": {
     "elapsed": 41,
     "status": "ok",
     "timestamp": 1744755368621,
     "user": {
      "displayName": "Carolina Zambelli",
      "userId": "01841375577278988627"
     },
     "user_tz": 180
    },
    "id": "977b3c93"
   },
   "outputs": [],
   "source": [
    "import numpy as np"
   ]
  },
  {
   "cell_type": "markdown",
   "id": "7419d255",
   "metadata": {
    "id": "7419d255"
   },
   "source": [
    "#### Arrays X Listas"
   ]
  },
  {
   "cell_type": "code",
   "execution_count": 2,
   "id": "196277c8",
   "metadata": {
    "executionInfo": {
     "elapsed": 16,
     "status": "ok",
     "timestamp": 1744755616423,
     "user": {
      "displayName": "Carolina Zambelli",
      "userId": "01841375577278988627"
     },
     "user_tz": 180
    },
    "id": "196277c8"
   },
   "outputs": [],
   "source": [
    "a = [1, 2, 3, 4]\n",
    "b = [4, 8, 3, 1]"
   ]
  },
  {
   "cell_type": "code",
   "execution_count": 4,
   "id": "19396e43",
   "metadata": {
    "colab": {
     "base_uri": "https://localhost:8080/"
    },
    "executionInfo": {
     "elapsed": 56,
     "status": "ok",
     "timestamp": 1744755574912,
     "user": {
      "displayName": "Carolina Zambelli",
      "userId": "01841375577278988627"
     },
     "user_tz": 180
    },
    "id": "19396e43",
    "outputId": "e0338499-38ab-4149-99de-2fb6640dd02d"
   },
   "outputs": [
    {
     "name": "stdout",
     "output_type": "stream",
     "text": [
      "[1, 2, 3, 4, 4, 8, 3, 1]\n",
      "[1, 2, 3, 4, 1, 2, 3, 4, 1, 2, 3, 4]\n"
     ]
    }
   ],
   "source": [
    "# Qual o resultado de a + b ?\n",
    "# Qual o resultado de a - b ?\n",
    "# Qual o resultado de a*3 ?\n",
    "print(a+b)\n",
    "print(a*3)"
   ]
  },
  {
   "cell_type": "code",
   "execution_count": 5,
   "id": "6b372453",
   "metadata": {
    "executionInfo": {
     "elapsed": 9,
     "status": "ok",
     "timestamp": 1744755638041,
     "user": {
      "displayName": "Carolina Zambelli",
      "userId": "01841375577278988627"
     },
     "user_tz": 180
    },
    "id": "6b372453"
   },
   "outputs": [],
   "source": [
    "a_np = np.array([1, 2, 3, 4])\n",
    "b_np = np.array([4, 8, 3, 1])"
   ]
  },
  {
   "cell_type": "code",
   "execution_count": 6,
   "id": "ff722775",
   "metadata": {
    "colab": {
     "base_uri": "https://localhost:8080/"
    },
    "executionInfo": {
     "elapsed": 18,
     "status": "ok",
     "timestamp": 1744755737244,
     "user": {
      "displayName": "Carolina Zambelli",
      "userId": "01841375577278988627"
     },
     "user_tz": 180
    },
    "id": "ff722775",
    "outputId": "993fdd0e-f3a8-41db-9ca6-d5b778a1c240"
   },
   "outputs": [
    {
     "name": "stdout",
     "output_type": "stream",
     "text": [
      "[ 5 10  6  5]\n",
      "[-3 -6  0  3]\n",
      "[ 3  6  9 12]\n"
     ]
    }
   ],
   "source": [
    "# Qual o resultado de a_np + b_np ?\n",
    "# Qual o resultado de a_np - b_np ?\n",
    "# Qual o resultado de a_np*3 ?\n",
    "print(a_np + b_np)\n",
    "print(a_np - b_np)\n",
    "print(a_np*3)"
   ]
  },
  {
   "cell_type": "markdown",
   "id": "1d6ba158",
   "metadata": {
    "id": "1d6ba158"
   },
   "source": [
    "#### Matrizes (arrays n-dimensional)"
   ]
  },
  {
   "cell_type": "code",
   "execution_count": 7,
   "id": "f3c1ae64",
   "metadata": {
    "colab": {
     "base_uri": "https://localhost:8080/"
    },
    "executionInfo": {
     "elapsed": 12,
     "status": "ok",
     "timestamp": 1744755765224,
     "user": {
      "displayName": "Carolina Zambelli",
      "userId": "01841375577278988627"
     },
     "user_tz": 180
    },
    "id": "f3c1ae64",
    "outputId": "d90457f3-1440-4949-d09c-30ebe41f2bce"
   },
   "outputs": [
    {
     "name": "stdout",
     "output_type": "stream",
     "text": [
      "[[1 2]\n",
      " [0 2]\n",
      " [2 1]]\n"
     ]
    }
   ],
   "source": [
    "M = np.array([[1,2], [0,2], [2,1]])\n",
    "print(M)"
   ]
  },
  {
   "cell_type": "code",
   "execution_count": 8,
   "id": "4ce254f1",
   "metadata": {
    "colab": {
     "base_uri": "https://localhost:8080/"
    },
    "executionInfo": {
     "elapsed": 16,
     "status": "ok",
     "timestamp": 1744755794329,
     "user": {
      "displayName": "Carolina Zambelli",
      "userId": "01841375577278988627"
     },
     "user_tz": 180
    },
    "id": "4ce254f1",
    "outputId": "eeddc801-b6fb-4d54-ac68-61c16fff9806"
   },
   "outputs": [
    {
     "data": {
      "text/plain": [
       "(3, 2)"
      ]
     },
     "execution_count": 8,
     "metadata": {},
     "output_type": "execute_result"
    }
   ],
   "source": [
    "M.shape"
   ]
  },
  {
   "cell_type": "code",
   "execution_count": 9,
   "id": "4bab060a",
   "metadata": {},
   "outputs": [
    {
     "data": {
      "text/plain": [
       "2"
      ]
     },
     "execution_count": 9,
     "metadata": {},
     "output_type": "execute_result"
    }
   ],
   "source": [
    "M[1,1]"
   ]
  },
  {
   "cell_type": "code",
   "execution_count": 10,
   "id": "bf90500c",
   "metadata": {
    "colab": {
     "base_uri": "https://localhost:8080/"
    },
    "executionInfo": {
     "elapsed": 44,
     "status": "ok",
     "timestamp": 1744756205891,
     "user": {
      "displayName": "Carolina Zambelli",
      "userId": "01841375577278988627"
     },
     "user_tz": 180
    },
    "id": "bf90500c",
    "outputId": "b4fd2746-dfb4-4e77-d832-21dc7192bccb"
   },
   "outputs": [
    {
     "name": "stdout",
     "output_type": "stream",
     "text": [
      "[1 2]\n",
      "[1 0 2]\n",
      "[[1 2]\n",
      " [0 2]]\n"
     ]
    }
   ],
   "source": [
    "# Primeira Linha\n",
    "print(M[0])\n",
    "# Primeira coluna\n",
    "print(M[:,0])\n",
    "# Subset da matriz\n",
    "print(M[:2, :2])"
   ]
  },
  {
   "cell_type": "code",
   "execution_count": 11,
   "id": "fb25b8f9",
   "metadata": {
    "colab": {
     "base_uri": "https://localhost:8080/"
    },
    "executionInfo": {
     "elapsed": 7,
     "status": "ok",
     "timestamp": 1744756243788,
     "user": {
      "displayName": "Carolina Zambelli",
      "userId": "01841375577278988627"
     },
     "user_tz": 180
    },
    "id": "fb25b8f9",
    "outputId": "c23f29db-4758-4b0d-88e1-f59d1172e2d4"
   },
   "outputs": [
    {
     "name": "stdout",
     "output_type": "stream",
     "text": [
      "[[10  2]\n",
      " [ 0  2]\n",
      " [ 2  1]]\n"
     ]
    }
   ],
   "source": [
    "# Atribui valor a um elemento específico\n",
    "M[0,0] = 10\n",
    "print(M)"
   ]
  },
  {
   "cell_type": "markdown",
   "id": "62133e62",
   "metadata": {
    "id": "62133e62"
   },
   "source": [
    "#### Operações com Numpy"
   ]
  },
  {
   "cell_type": "markdown",
   "id": "d4a3a6c0",
   "metadata": {
    "id": "d4a3a6c0"
   },
   "source": [
    "1. Operações Matemáticas"
   ]
  },
  {
   "cell_type": "code",
   "execution_count": 12,
   "id": "df9d738c",
   "metadata": {
    "colab": {
     "base_uri": "https://localhost:8080/"
    },
    "executionInfo": {
     "elapsed": 6,
     "status": "ok",
     "timestamp": 1744756339649,
     "user": {
      "displayName": "Carolina Zambelli",
      "userId": "01841375577278988627"
     },
     "user_tz": 180
    },
    "id": "df9d738c",
    "outputId": "a2f5d5e7-ab48-4f8d-b19c-bcfdc63b299f"
   },
   "outputs": [
    {
     "name": "stdout",
     "output_type": "stream",
     "text": [
      "[0.         1.57079633 3.14159265]\n"
     ]
    }
   ],
   "source": [
    "print(np.array([0, np.pi/2, np.pi]))"
   ]
  },
  {
   "cell_type": "code",
   "execution_count": 13,
   "id": "9OGg0vHIlP2U",
   "metadata": {
    "colab": {
     "base_uri": "https://localhost:8080/"
    },
    "executionInfo": {
     "elapsed": 15,
     "status": "ok",
     "timestamp": 1744756366281,
     "user": {
      "displayName": "Carolina Zambelli",
      "userId": "01841375577278988627"
     },
     "user_tz": 180
    },
    "id": "9OGg0vHIlP2U",
    "outputId": "9012f6da-b24a-4efb-9db9-a87eeb5c59f6"
   },
   "outputs": [
    {
     "name": "stdout",
     "output_type": "stream",
     "text": [
      "1.0 0.0\n"
     ]
    }
   ],
   "source": [
    "print(np.cos(0),  np.sin(0))"
   ]
  },
  {
   "cell_type": "markdown",
   "id": "13089b32",
   "metadata": {
    "id": "13089b32"
   },
   "source": [
    "2. Operações de Redimensionamento e Transposição"
   ]
  },
  {
   "cell_type": "code",
   "execution_count": 14,
   "id": "b61b98e2",
   "metadata": {
    "colab": {
     "base_uri": "https://localhost:8080/"
    },
    "executionInfo": {
     "elapsed": 39,
     "status": "ok",
     "timestamp": 1744756380060,
     "user": {
      "displayName": "Carolina Zambelli",
      "userId": "01841375577278988627"
     },
     "user_tz": 180
    },
    "id": "b61b98e2",
    "outputId": "6e9e35f8-5f31-47dc-d037-b21cecbabef6"
   },
   "outputs": [
    {
     "name": "stdout",
     "output_type": "stream",
     "text": [
      "[[1 2]\n",
      " [0 2]\n",
      " [2 1]]\n"
     ]
    }
   ],
   "source": [
    "M = np.array([[1,2], [0,2], [2,1]])\n",
    "print(M)"
   ]
  },
  {
   "cell_type": "code",
   "execution_count": 15,
   "id": "349b2436",
   "metadata": {
    "colab": {
     "base_uri": "https://localhost:8080/"
    },
    "executionInfo": {
     "elapsed": 12,
     "status": "ok",
     "timestamp": 1744756539896,
     "user": {
      "displayName": "Carolina Zambelli",
      "userId": "01841375577278988627"
     },
     "user_tz": 180
    },
    "id": "349b2436",
    "outputId": "1f9937a1-296a-4a9e-9509-c073ed1298ab"
   },
   "outputs": [
    {
     "data": {
      "text/plain": [
       "array([[1, 0, 2],\n",
       "       [2, 2, 1]])"
      ]
     },
     "execution_count": 15,
     "metadata": {},
     "output_type": "execute_result"
    }
   ],
   "source": [
    "# Transposição\n",
    "M.T"
   ]
  },
  {
   "cell_type": "code",
   "execution_count": 16,
   "id": "KAlVetvzmDML",
   "metadata": {
    "colab": {
     "base_uri": "https://localhost:8080/"
    },
    "executionInfo": {
     "elapsed": 15,
     "status": "ok",
     "timestamp": 1744756585673,
     "user": {
      "displayName": "Carolina Zambelli",
      "userId": "01841375577278988627"
     },
     "user_tz": 180
    },
    "id": "KAlVetvzmDML",
    "outputId": "85039d59-2351-4c76-fc91-12f3ba78a0e1"
   },
   "outputs": [
    {
     "data": {
      "text/plain": [
       "array([[1, 0, 2],\n",
       "       [2, 2, 1]])"
      ]
     },
     "execution_count": 16,
     "metadata": {},
     "output_type": "execute_result"
    }
   ],
   "source": [
    "M.transpose()"
   ]
  },
  {
   "cell_type": "code",
   "execution_count": 17,
   "id": "6821493e",
   "metadata": {
    "colab": {
     "base_uri": "https://localhost:8080/"
    },
    "executionInfo": {
     "elapsed": 13,
     "status": "ok",
     "timestamp": 1744756681985,
     "user": {
      "displayName": "Carolina Zambelli",
      "userId": "01841375577278988627"
     },
     "user_tz": 180
    },
    "id": "6821493e",
    "outputId": "ec4b0deb-c5d5-4427-8ab5-fa192ee3f64f"
   },
   "outputs": [
    {
     "data": {
      "text/plain": [
       "array([[1, 2, 0],\n",
       "       [2, 2, 1]])"
      ]
     },
     "execution_count": 17,
     "metadata": {},
     "output_type": "execute_result"
    }
   ],
   "source": [
    "# Redimensionamento\n",
    "M.reshape((2,3))"
   ]
  },
  {
   "cell_type": "code",
   "execution_count": 18,
   "id": "538726ec",
   "metadata": {
    "colab": {
     "base_uri": "https://localhost:8080/",
     "height": 143
    },
    "executionInfo": {
     "elapsed": 37,
     "status": "error",
     "timestamp": 1744756842865,
     "user": {
      "displayName": "Carolina Zambelli",
      "userId": "01841375577278988627"
     },
     "user_tz": 180
    },
    "id": "538726ec",
    "outputId": "b88ddeb0-71b2-44ed-d0c7-0a67aba873bd"
   },
   "outputs": [
    {
     "ename": "ValueError",
     "evalue": "cannot reshape array of size 6 into shape (2,2)",
     "output_type": "error",
     "traceback": [
      "\u001b[1;31m---------------------------------------------------------------------------\u001b[0m",
      "\u001b[1;31mValueError\u001b[0m                                Traceback (most recent call last)",
      "Cell \u001b[1;32mIn[18], line 1\u001b[0m\n\u001b[1;32m----> 1\u001b[0m M\u001b[38;5;241m.\u001b[39mreshape((\u001b[38;5;241m2\u001b[39m,\u001b[38;5;241m2\u001b[39m))\n",
      "\u001b[1;31mValueError\u001b[0m: cannot reshape array of size 6 into shape (2,2)"
     ]
    }
   ],
   "source": [
    "M.reshape((2,2))"
   ]
  },
  {
   "cell_type": "markdown",
   "id": "1d385b4f",
   "metadata": {
    "id": "1d385b4f"
   },
   "source": [
    "3. Operações de Algebra Linear"
   ]
  },
  {
   "cell_type": "code",
   "execution_count": 19,
   "id": "555baabe",
   "metadata": {
    "executionInfo": {
     "elapsed": 4,
     "status": "ok",
     "timestamp": 1744756975123,
     "user": {
      "displayName": "Carolina Zambelli",
      "userId": "01841375577278988627"
     },
     "user_tz": 180
    },
    "id": "555baabe"
   },
   "outputs": [],
   "source": [
    "x = np.array([1, 2, 3, 4])\n",
    "w = np.array([5, 6, 7, 8])"
   ]
  },
  {
   "cell_type": "markdown",
   "id": "e2cb9f58",
   "metadata": {
    "id": "e2cb9f58"
   },
   "source": [
    "Combinação linear: $\\ x_1*w_1 + x_2*w_2 + x_3*w_3+ . . . + x_m*w_m$"
   ]
  },
  {
   "cell_type": "code",
   "execution_count": 21,
   "id": "76df4ec7",
   "metadata": {
    "colab": {
     "base_uri": "https://localhost:8080/"
    },
    "executionInfo": {
     "elapsed": 19,
     "status": "ok",
     "timestamp": 1744757045922,
     "user": {
      "displayName": "Carolina Zambelli",
      "userId": "01841375577278988627"
     },
     "user_tz": 180
    },
    "id": "76df4ec7",
    "outputId": "9143cd4a-3c16-478f-d669-bb160c743072"
   },
   "outputs": [
    {
     "data": {
      "text/plain": [
       "70"
      ]
     },
     "execution_count": 21,
     "metadata": {},
     "output_type": "execute_result"
    }
   ],
   "source": [
    "sum(x*w)"
   ]
  },
  {
   "cell_type": "code",
   "execution_count": 22,
   "id": "de383824",
   "metadata": {
    "colab": {
     "base_uri": "https://localhost:8080/"
    },
    "executionInfo": {
     "elapsed": 47,
     "status": "ok",
     "timestamp": 1744757167234,
     "user": {
      "displayName": "Carolina Zambelli",
      "userId": "01841375577278988627"
     },
     "user_tz": 180
    },
    "id": "de383824",
    "outputId": "1cecf5c7-3549-4e4e-8f6c-a7e0e91ede2e"
   },
   "outputs": [
    {
     "data": {
      "text/plain": [
       "70"
      ]
     },
     "execution_count": 22,
     "metadata": {},
     "output_type": "execute_result"
    }
   ],
   "source": [
    "np.dot(x,w)"
   ]
  },
  {
   "cell_type": "markdown",
   "id": "f1283907",
   "metadata": {
    "id": "f1283907"
   },
   "source": [
    "Multiplicação de Matrizes"
   ]
  },
  {
   "cell_type": "code",
   "execution_count": 23,
   "id": "29564d1b",
   "metadata": {
    "executionInfo": {
     "elapsed": 46,
     "status": "ok",
     "timestamp": 1744757307977,
     "user": {
      "displayName": "Carolina Zambelli",
      "userId": "01841375577278988627"
     },
     "user_tz": 180
    },
    "id": "29564d1b"
   },
   "outputs": [],
   "source": [
    "a = np.array([[1, 2], [3, 4]])\n",
    "b = np.array([[5, 6], [7, 8]])"
   ]
  },
  {
   "cell_type": "code",
   "execution_count": 24,
   "id": "fda62a4e",
   "metadata": {
    "colab": {
     "base_uri": "https://localhost:8080/"
    },
    "executionInfo": {
     "elapsed": 44,
     "status": "ok",
     "timestamp": 1744757466727,
     "user": {
      "displayName": "Carolina Zambelli",
      "userId": "01841375577278988627"
     },
     "user_tz": 180
    },
    "id": "fda62a4e",
    "outputId": "c1b92f80-13e3-40c3-8c16-0320545a8821"
   },
   "outputs": [
    {
     "data": {
      "text/plain": [
       "array([[19, 22],\n",
       "       [43, 50]])"
      ]
     },
     "execution_count": 24,
     "metadata": {},
     "output_type": "execute_result"
    }
   ],
   "source": [
    "a@b"
   ]
  },
  {
   "cell_type": "markdown",
   "id": "24ceebe4",
   "metadata": {
    "id": "24ceebe4"
   },
   "source": [
    "Matriz Inversa: $\\ A^{-1} . A = I$"
   ]
  },
  {
   "cell_type": "code",
   "execution_count": null,
   "id": "f69e6934",
   "metadata": {
    "colab": {
     "base_uri": "https://localhost:8080/"
    },
    "executionInfo": {
     "elapsed": 18,
     "status": "ok",
     "timestamp": 1744757500169,
     "user": {
      "displayName": "Carolina Zambelli",
      "userId": "01841375577278988627"
     },
     "user_tz": 180
    },
    "id": "f69e6934",
    "outputId": "5efbad5e-4bbc-49ce-fc96-d2350f0be1fa"
   },
   "outputs": [
    {
     "data": {
      "text/plain": [
       "array([[-2. ,  1. ],\n",
       "       [ 1.5, -0.5]])"
      ]
     },
     "execution_count": 25,
     "metadata": {},
     "output_type": "execute_result"
    }
   ],
   "source": [
    "np.linalg.inv(a)"
   ]
  }
 ],
 "metadata": {
  "colab": {
   "provenance": []
  },
  "kernelspec": {
   "display_name": "base",
   "language": "python",
   "name": "python3"
  },
  "language_info": {
   "codemirror_mode": {
    "name": "ipython",
    "version": 3
   },
   "file_extension": ".py",
   "mimetype": "text/x-python",
   "name": "python",
   "nbconvert_exporter": "python",
   "pygments_lexer": "ipython3",
   "version": "3.12.4"
  }
 },
 "nbformat": 4,
 "nbformat_minor": 5
}
