{
 "cells": [
  {
   "cell_type": "code",
   "execution_count": 1,
   "metadata": {},
   "outputs": [],
   "source": [
    "import warnings\n",
    "import numpy as np\n",
    "import pandas as pd\n",
    "from collections import Counter\n",
    "\n",
    "# Sklearn imports\n",
    "from sklearn.linear_model import LogisticRegression, LogisticRegressionCV\n",
    "from sklearn.model_selection import train_test_split\n",
    "from sklearn.metrics import accuracy_score, roc_auc_score, precision_score, recall_score, confusion_matrix\n",
    "from sklearn.preprocessing import StandardScaler\n",
    "\n",
    "# Visualization\n",
    "import matplotlib.pyplot as plt\n",
    "import seaborn as sns\n",
    "\n",
    "warnings.simplefilter(action='ignore', category=FutureWarning)\n",
    "warnings.simplefilter(action='ignore', category=UserWarning)"
   ]
  },
  {
   "cell_type": "code",
   "execution_count": 2,
   "metadata": {},
   "outputs": [],
   "source": [
    "df = pd.read_csv(\"data/telco_dataset.csv\")"
   ]
  },
  {
   "cell_type": "code",
   "execution_count": 3,
   "metadata": {},
   "outputs": [],
   "source": [
    "df.drop(['customerID'],axis=1, inplace=True)"
   ]
  },
  {
   "cell_type": "code",
   "execution_count": 4,
   "metadata": {},
   "outputs": [
    {
     "data": {
      "text/plain": [
       "gender               object\n",
       "SeniorCitizen         int64\n",
       "Partner              object\n",
       "Dependents           object\n",
       "tenure              float64\n",
       "PhoneService         object\n",
       "MultipleLines        object\n",
       "InternetService      object\n",
       "OnlineSecurity       object\n",
       "OnlineBackup         object\n",
       "DeviceProtection     object\n",
       "TechSupport          object\n",
       "StreamingTV          object\n",
       "StreamingMovies      object\n",
       "Contract             object\n",
       "PaperlessBilling     object\n",
       "PaymentMethod        object\n",
       "MonthlyCharges      float64\n",
       "TotalCharges        float64\n",
       "Churn                object\n",
       "dtype: object"
      ]
     },
     "execution_count": 4,
     "metadata": {},
     "output_type": "execute_result"
    }
   ],
   "source": [
    "df.dtypes"
   ]
  },
  {
   "cell_type": "markdown",
   "metadata": {},
   "source": [
    "### Pré-Processamento"
   ]
  },
  {
   "cell_type": "code",
   "execution_count": 5,
   "metadata": {},
   "outputs": [],
   "source": [
    "categorical_cols = [c for c in df.columns if df[c].dtype == 'object' or c == 'SeniorCitizen']\n",
    "df_categorical = df[categorical_cols].copy()\n",
    "for col in categorical_cols:\n",
    "    if df_categorical[col].nunique() == 2:\n",
    "        df_categorical[col], _ = pd.factorize(df_categorical[col])\n",
    "    else:\n",
    "        df_categorical = pd.get_dummies(df_categorical, columns=[col])"
   ]
  },
  {
   "cell_type": "code",
   "execution_count": 6,
   "metadata": {},
   "outputs": [
    {
     "data": {
      "text/html": [
       "<div>\n",
       "<style scoped>\n",
       "    .dataframe tbody tr th:only-of-type {\n",
       "        vertical-align: middle;\n",
       "    }\n",
       "\n",
       "    .dataframe tbody tr th {\n",
       "        vertical-align: top;\n",
       "    }\n",
       "\n",
       "    .dataframe thead th {\n",
       "        text-align: right;\n",
       "    }\n",
       "</style>\n",
       "<table border=\"1\" class=\"dataframe\">\n",
       "  <thead>\n",
       "    <tr style=\"text-align: right;\">\n",
       "      <th></th>\n",
       "      <th>gender</th>\n",
       "      <th>SeniorCitizen</th>\n",
       "      <th>Partner</th>\n",
       "      <th>Dependents</th>\n",
       "      <th>PhoneService</th>\n",
       "      <th>PaperlessBilling</th>\n",
       "      <th>Churn</th>\n",
       "      <th>MultipleLines_No</th>\n",
       "      <th>MultipleLines_No phone service</th>\n",
       "      <th>MultipleLines_Yes</th>\n",
       "      <th>...</th>\n",
       "      <th>StreamingMovies_No</th>\n",
       "      <th>StreamingMovies_No internet service</th>\n",
       "      <th>StreamingMovies_Yes</th>\n",
       "      <th>Contract_Month-to-month</th>\n",
       "      <th>Contract_One year</th>\n",
       "      <th>Contract_Two year</th>\n",
       "      <th>PaymentMethod_Bank transfer (automatic)</th>\n",
       "      <th>PaymentMethod_Credit card (automatic)</th>\n",
       "      <th>PaymentMethod_Electronic check</th>\n",
       "      <th>PaymentMethod_Mailed check</th>\n",
       "    </tr>\n",
       "  </thead>\n",
       "  <tbody>\n",
       "    <tr>\n",
       "      <th>0</th>\n",
       "      <td>0</td>\n",
       "      <td>0</td>\n",
       "      <td>0</td>\n",
       "      <td>0</td>\n",
       "      <td>0</td>\n",
       "      <td>0</td>\n",
       "      <td>0</td>\n",
       "      <td>False</td>\n",
       "      <td>True</td>\n",
       "      <td>False</td>\n",
       "      <td>...</td>\n",
       "      <td>True</td>\n",
       "      <td>False</td>\n",
       "      <td>False</td>\n",
       "      <td>True</td>\n",
       "      <td>False</td>\n",
       "      <td>False</td>\n",
       "      <td>False</td>\n",
       "      <td>False</td>\n",
       "      <td>True</td>\n",
       "      <td>False</td>\n",
       "    </tr>\n",
       "    <tr>\n",
       "      <th>1</th>\n",
       "      <td>1</td>\n",
       "      <td>0</td>\n",
       "      <td>1</td>\n",
       "      <td>0</td>\n",
       "      <td>1</td>\n",
       "      <td>1</td>\n",
       "      <td>0</td>\n",
       "      <td>True</td>\n",
       "      <td>False</td>\n",
       "      <td>False</td>\n",
       "      <td>...</td>\n",
       "      <td>True</td>\n",
       "      <td>False</td>\n",
       "      <td>False</td>\n",
       "      <td>False</td>\n",
       "      <td>True</td>\n",
       "      <td>False</td>\n",
       "      <td>False</td>\n",
       "      <td>False</td>\n",
       "      <td>False</td>\n",
       "      <td>True</td>\n",
       "    </tr>\n",
       "    <tr>\n",
       "      <th>2</th>\n",
       "      <td>1</td>\n",
       "      <td>0</td>\n",
       "      <td>1</td>\n",
       "      <td>0</td>\n",
       "      <td>1</td>\n",
       "      <td>0</td>\n",
       "      <td>1</td>\n",
       "      <td>True</td>\n",
       "      <td>False</td>\n",
       "      <td>False</td>\n",
       "      <td>...</td>\n",
       "      <td>True</td>\n",
       "      <td>False</td>\n",
       "      <td>False</td>\n",
       "      <td>True</td>\n",
       "      <td>False</td>\n",
       "      <td>False</td>\n",
       "      <td>False</td>\n",
       "      <td>False</td>\n",
       "      <td>False</td>\n",
       "      <td>True</td>\n",
       "    </tr>\n",
       "  </tbody>\n",
       "</table>\n",
       "<p>3 rows × 38 columns</p>\n",
       "</div>"
      ],
      "text/plain": [
       "   gender  SeniorCitizen  Partner  Dependents  PhoneService  PaperlessBilling  \\\n",
       "0       0              0        0           0             0                 0   \n",
       "1       1              0        1           0             1                 1   \n",
       "2       1              0        1           0             1                 0   \n",
       "\n",
       "   Churn  MultipleLines_No  MultipleLines_No phone service  MultipleLines_Yes  \\\n",
       "0      0             False                            True              False   \n",
       "1      0              True                           False              False   \n",
       "2      1              True                           False              False   \n",
       "\n",
       "   ...  StreamingMovies_No  StreamingMovies_No internet service  \\\n",
       "0  ...                True                                False   \n",
       "1  ...                True                                False   \n",
       "2  ...                True                                False   \n",
       "\n",
       "   StreamingMovies_Yes  Contract_Month-to-month  Contract_One year  \\\n",
       "0                False                     True              False   \n",
       "1                False                    False               True   \n",
       "2                False                     True              False   \n",
       "\n",
       "   Contract_Two year  PaymentMethod_Bank transfer (automatic)  \\\n",
       "0              False                                    False   \n",
       "1              False                                    False   \n",
       "2              False                                    False   \n",
       "\n",
       "   PaymentMethod_Credit card (automatic)  PaymentMethod_Electronic check  \\\n",
       "0                                  False                            True   \n",
       "1                                  False                           False   \n",
       "2                                  False                           False   \n",
       "\n",
       "   PaymentMethod_Mailed check  \n",
       "0                       False  \n",
       "1                        True  \n",
       "2                        True  \n",
       "\n",
       "[3 rows x 38 columns]"
      ]
     },
     "execution_count": 6,
     "metadata": {},
     "output_type": "execute_result"
    }
   ],
   "source": [
    "df_categorical.head(3)"
   ]
  },
  {
   "cell_type": "code",
   "execution_count": 7,
   "metadata": {},
   "outputs": [
    {
     "data": {
      "text/html": [
       "<div>\n",
       "<style scoped>\n",
       "    .dataframe tbody tr th:only-of-type {\n",
       "        vertical-align: middle;\n",
       "    }\n",
       "\n",
       "    .dataframe tbody tr th {\n",
       "        vertical-align: top;\n",
       "    }\n",
       "\n",
       "    .dataframe thead th {\n",
       "        text-align: right;\n",
       "    }\n",
       "</style>\n",
       "<table border=\"1\" class=\"dataframe\">\n",
       "  <thead>\n",
       "    <tr style=\"text-align: right;\">\n",
       "      <th></th>\n",
       "      <th>tenure</th>\n",
       "      <th>MonthlyCharges</th>\n",
       "      <th>TotalCharges</th>\n",
       "    </tr>\n",
       "  </thead>\n",
       "  <tbody>\n",
       "    <tr>\n",
       "      <th>0</th>\n",
       "      <td>-1.277445</td>\n",
       "      <td>-1.160323</td>\n",
       "      <td>-0.992611</td>\n",
       "    </tr>\n",
       "    <tr>\n",
       "      <th>1</th>\n",
       "      <td>0.066327</td>\n",
       "      <td>-0.259629</td>\n",
       "      <td>-0.172165</td>\n",
       "    </tr>\n",
       "    <tr>\n",
       "      <th>2</th>\n",
       "      <td>-1.236724</td>\n",
       "      <td>-0.362660</td>\n",
       "      <td>-0.958066</td>\n",
       "    </tr>\n",
       "    <tr>\n",
       "      <th>3</th>\n",
       "      <td>0.514251</td>\n",
       "      <td>-0.746535</td>\n",
       "      <td>-0.193672</td>\n",
       "    </tr>\n",
       "    <tr>\n",
       "      <th>4</th>\n",
       "      <td>-1.236724</td>\n",
       "      <td>0.197365</td>\n",
       "      <td>-0.938874</td>\n",
       "    </tr>\n",
       "  </tbody>\n",
       "</table>\n",
       "</div>"
      ],
      "text/plain": [
       "     tenure  MonthlyCharges  TotalCharges\n",
       "0 -1.277445       -1.160323     -0.992611\n",
       "1  0.066327       -0.259629     -0.172165\n",
       "2 -1.236724       -0.362660     -0.958066\n",
       "3  0.514251       -0.746535     -0.193672\n",
       "4 -1.236724        0.197365     -0.938874"
      ]
     },
     "execution_count": 7,
     "metadata": {},
     "output_type": "execute_result"
    }
   ],
   "source": [
    "num_cols = [\"tenure\", \"MonthlyCharges\", \"TotalCharges\"]\n",
    "pd.DataFrame(StandardScaler().fit_transform(df[num_cols]),columns=num_cols).head()\n",
    "# https://scikit-learn.org/stable/modules/generated/sklearn.preprocessing.StandardScaler.html"
   ]
  },
  {
   "cell_type": "code",
   "execution_count": 8,
   "metadata": {},
   "outputs": [
    {
     "data": {
      "image/png": "[encoded data removed]",
      "text/plain": [
       "<Figure size 800x300 with 1 Axes>"
      ]
     },
     "metadata": {},
     "output_type": "display_data"
    }
   ],
   "source": [
    "# Verificar que a ditribuição se mantém\n",
    "df_std = pd.DataFrame(StandardScaler().fit_transform(df[num_cols]),columns=num_cols)\n",
    "plt.figure(figsize=(8,3))\n",
    "plt.title(\"Distribution for {}\".format(\"tenure\"))\n",
    "ax = sns.distplot(df_std[\"tenure\"])"
   ]
  },
  {
   "cell_type": "markdown",
   "metadata": {},
   "source": [
    "### Contruindo o modelo"
   ]
  },
  {
   "cell_type": "code",
   "execution_count": 9,
   "metadata": {},
   "outputs": [],
   "source": [
    "df_processed = pd.concat([df_std, df_categorical], axis=1)\n",
    "metrics = ['roc_auc', 'accuracy', 'precision', 'recall']\n",
    "# https://scikit-learn.org/stable/modules/model_evaluation.html"
   ]
  },
  {
   "cell_type": "code",
   "execution_count": 10,
   "metadata": {},
   "outputs": [
    {
     "data": {
      "text/html": [
       "<div>\n",
       "<style scoped>\n",
       "    .dataframe tbody tr th:only-of-type {\n",
       "        vertical-align: middle;\n",
       "    }\n",
       "\n",
       "    .dataframe tbody tr th {\n",
       "        vertical-align: top;\n",
       "    }\n",
       "\n",
       "    .dataframe thead th {\n",
       "        text-align: right;\n",
       "    }\n",
       "</style>\n",
       "<table border=\"1\" class=\"dataframe\">\n",
       "  <thead>\n",
       "    <tr style=\"text-align: right;\">\n",
       "      <th></th>\n",
       "      <th>tenure</th>\n",
       "      <th>MonthlyCharges</th>\n",
       "      <th>TotalCharges</th>\n",
       "      <th>gender</th>\n",
       "      <th>SeniorCitizen</th>\n",
       "      <th>Partner</th>\n",
       "      <th>Dependents</th>\n",
       "      <th>PhoneService</th>\n",
       "      <th>PaperlessBilling</th>\n",
       "      <th>Churn</th>\n",
       "      <th>...</th>\n",
       "      <th>StreamingMovies_No</th>\n",
       "      <th>StreamingMovies_No internet service</th>\n",
       "      <th>StreamingMovies_Yes</th>\n",
       "      <th>Contract_Month-to-month</th>\n",
       "      <th>Contract_One year</th>\n",
       "      <th>Contract_Two year</th>\n",
       "      <th>PaymentMethod_Bank transfer (automatic)</th>\n",
       "      <th>PaymentMethod_Credit card (automatic)</th>\n",
       "      <th>PaymentMethod_Electronic check</th>\n",
       "      <th>PaymentMethod_Mailed check</th>\n",
       "    </tr>\n",
       "  </thead>\n",
       "  <tbody>\n",
       "    <tr>\n",
       "      <th>0</th>\n",
       "      <td>-1.277445</td>\n",
       "      <td>-1.160323</td>\n",
       "      <td>-0.992611</td>\n",
       "      <td>0</td>\n",
       "      <td>0</td>\n",
       "      <td>0</td>\n",
       "      <td>0</td>\n",
       "      <td>0</td>\n",
       "      <td>0</td>\n",
       "      <td>0</td>\n",
       "      <td>...</td>\n",
       "      <td>True</td>\n",
       "      <td>False</td>\n",
       "      <td>False</td>\n",
       "      <td>True</td>\n",
       "      <td>False</td>\n",
       "      <td>False</td>\n",
       "      <td>False</td>\n",
       "      <td>False</td>\n",
       "      <td>True</td>\n",
       "      <td>False</td>\n",
       "    </tr>\n",
       "    <tr>\n",
       "      <th>1</th>\n",
       "      <td>0.066327</td>\n",
       "      <td>-0.259629</td>\n",
       "      <td>-0.172165</td>\n",
       "      <td>1</td>\n",
       "      <td>0</td>\n",
       "      <td>1</td>\n",
       "      <td>0</td>\n",
       "      <td>1</td>\n",
       "      <td>1</td>\n",
       "      <td>0</td>\n",
       "      <td>...</td>\n",
       "      <td>True</td>\n",
       "      <td>False</td>\n",
       "      <td>False</td>\n",
       "      <td>False</td>\n",
       "      <td>True</td>\n",
       "      <td>False</td>\n",
       "      <td>False</td>\n",
       "      <td>False</td>\n",
       "      <td>False</td>\n",
       "      <td>True</td>\n",
       "    </tr>\n",
       "    <tr>\n",
       "      <th>2</th>\n",
       "      <td>-1.236724</td>\n",
       "      <td>-0.362660</td>\n",
       "      <td>-0.958066</td>\n",
       "      <td>1</td>\n",
       "      <td>0</td>\n",
       "      <td>1</td>\n",
       "      <td>0</td>\n",
       "      <td>1</td>\n",
       "      <td>0</td>\n",
       "      <td>1</td>\n",
       "      <td>...</td>\n",
       "      <td>True</td>\n",
       "      <td>False</td>\n",
       "      <td>False</td>\n",
       "      <td>True</td>\n",
       "      <td>False</td>\n",
       "      <td>False</td>\n",
       "      <td>False</td>\n",
       "      <td>False</td>\n",
       "      <td>False</td>\n",
       "      <td>True</td>\n",
       "    </tr>\n",
       "  </tbody>\n",
       "</table>\n",
       "<p>3 rows × 41 columns</p>\n",
       "</div>"
      ],
      "text/plain": [
       "     tenure  MonthlyCharges  TotalCharges  gender  SeniorCitizen  Partner  \\\n",
       "0 -1.277445       -1.160323     -0.992611       0              0        0   \n",
       "1  0.066327       -0.259629     -0.172165       1              0        1   \n",
       "2 -1.236724       -0.362660     -0.958066       1              0        1   \n",
       "\n",
       "   Dependents  PhoneService  PaperlessBilling  Churn  ...  StreamingMovies_No  \\\n",
       "0           0             0                 0      0  ...                True   \n",
       "1           0             1                 1      0  ...                True   \n",
       "2           0             1                 0      1  ...                True   \n",
       "\n",
       "   StreamingMovies_No internet service  StreamingMovies_Yes  \\\n",
       "0                                False                False   \n",
       "1                                False                False   \n",
       "2                                False                False   \n",
       "\n",
       "   Contract_Month-to-month  Contract_One year  Contract_Two year  \\\n",
       "0                     True              False              False   \n",
       "1                    False               True              False   \n",
       "2                     True              False              False   \n",
       "\n",
       "   PaymentMethod_Bank transfer (automatic)  \\\n",
       "0                                    False   \n",
       "1                                    False   \n",
       "2                                    False   \n",
       "\n",
       "   PaymentMethod_Credit card (automatic)  PaymentMethod_Electronic check  \\\n",
       "0                                  False                            True   \n",
       "1                                  False                           False   \n",
       "2                                  False                           False   \n",
       "\n",
       "   PaymentMethod_Mailed check  \n",
       "0                       False  \n",
       "1                        True  \n",
       "2                        True  \n",
       "\n",
       "[3 rows x 41 columns]"
      ]
     },
     "execution_count": 10,
     "metadata": {},
     "output_type": "execute_result"
    }
   ],
   "source": [
    "df_processed.head(3)"
   ]
  },
  {
   "cell_type": "code",
   "execution_count": 11,
   "metadata": {},
   "outputs": [
    {
     "data": {
      "text/plain": [
       "(7043, 41)"
      ]
     },
     "execution_count": 11,
     "metadata": {},
     "output_type": "execute_result"
    }
   ],
   "source": [
    "df_processed.shape"
   ]
  },
  {
   "cell_type": "code",
   "execution_count": 12,
   "metadata": {},
   "outputs": [],
   "source": [
    "train, test = train_test_split(df_processed, test_size=0.2, random_state=50)\n",
    "predictors = [c for c in train.columns if c not in ['customerID', 'Churn']]\n",
    "clf = LogisticRegression()\n",
    "clf.fit(train[predictors], train['Churn'])\n",
    "y_pred = clf.predict(test[predictors]) #0.5\n",
    "y_prob = clf.predict_proba(test[predictors])[:, 1]\n",
    "results = list()"
   ]
  },
  {
   "cell_type": "code",
   "execution_count": 36,
   "metadata": {},
   "outputs": [
    {
     "data": {
      "text/plain": [
       "array([0, 0, 0, ..., 0, 0, 1], dtype=int64)"
      ]
     },
     "execution_count": 36,
     "metadata": {},
     "output_type": "execute_result"
    }
   ],
   "source": [
    "y_pred"
   ]
  },
  {
   "cell_type": "code",
   "execution_count": 14,
   "metadata": {},
   "outputs": [],
   "source": [
    "for m in metrics:\n",
    "    if m == 'roc_auc':\n",
    "        results.append((m, roc_auc_score(test['Churn'], y_prob)))\n",
    "    else:\n",
    "        results.append((m, eval(\"{}_score\".format(m))(test['Churn'], y_pred)))"
   ]
  },
  {
   "cell_type": "code",
   "execution_count": 15,
   "metadata": {},
   "outputs": [
    {
     "data": {
      "text/plain": [
       "[('roc_auc', 0.8398723008812596),\n",
       " ('accuracy', 0.7998580553584103),\n",
       " ('precision', 0.6360759493670886),\n",
       " ('recall', 0.5461956521739131)]"
      ]
     },
     "execution_count": 15,
     "metadata": {},
     "output_type": "execute_result"
    }
   ],
   "source": [
    "results"
   ]
  },
  {
   "cell_type": "markdown",
   "metadata": {},
   "source": [
    "- A precisão mede a quantidade de vezes que o seu modelo acerta em relação ao total de vezes que ele tenta acertar.\n",
    "- O recall mede a quantidade de vezes que o seu modelo acerta em relação ao total de vezes que ele deveria ter acertado."
   ]
  },
  {
   "cell_type": "code",
   "execution_count": 16,
   "metadata": {},
   "outputs": [
    {
     "data": {
      "text/plain": [
       "array([[926, 115],\n",
       "       [167, 201]], dtype=int64)"
      ]
     },
     "execution_count": 16,
     "metadata": {},
     "output_type": "execute_result"
    }
   ],
   "source": [
    "# Matrix de confusão\n",
    "cm = confusion_matrix(test['Churn'], y_pred)\n",
    "cm"
   ]
  },
  {
   "cell_type": "code",
   "execution_count": 17,
   "metadata": {},
   "outputs": [
    {
     "name": "stdout",
     "output_type": "stream",
     "text": [
      "0.8472095150960659 0.6360759493670886\n"
     ]
    }
   ],
   "source": [
    "especificidade = cm[0][0]/(cm[1][0]+cm[0][0])\n",
    "sensibilidade = cm[1][1]/(cm[1][1]+cm[0][1])\n",
    "print(sensibilidade, especificidade)"
   ]
  },
  {
   "cell_type": "code",
   "execution_count": 18,
   "metadata": {},
   "outputs": [
    {
     "data": {
      "text/plain": [
       "[('roc_auc', 0.8398279246543876),\n",
       " ('accuracy', 0.8005677785663591),\n",
       " ('precision', 0.6389776357827476),\n",
       " ('recall', 0.5434782608695652)]"
      ]
     },
     "execution_count": 18,
     "metadata": {},
     "output_type": "execute_result"
    }
   ],
   "source": [
    "# otimização com Validação Cruzada\n",
    "clf_cv = LogisticRegressionCV(cv=5, random_state=10)\n",
    "clf_cv.fit(train[predictors], train['Churn'])\n",
    "y_pred = clf_cv.predict(test[predictors])\n",
    "y_prob = clf_cv.predict_proba(test[predictors])[:, 1]\n",
    "results = list()\n",
    "for m in metrics:\n",
    "    if m == 'roc_auc':\n",
    "        results.append((m, roc_auc_score(test['Churn'], y_prob)))\n",
    "    else:\n",
    "        results.append((m, eval(\"{}_score\".format(m))(test['Churn'], y_pred)))\n",
    "results"
   ]
  },
  {
   "cell_type": "code",
   "execution_count": 19,
   "metadata": {},
   "outputs": [
    {
     "data": {
      "text/plain": [
       "array([[-1.4272492 ,  0.26709229,  0.66336096,  0.05010496,  0.14382087,\n",
       "         0.06944087, -0.14397022, -0.4261162 , -0.33677021, -0.33045157,\n",
       "         0.06321901, -0.09566463, -0.36328918,  0.16371981, -0.16332781,\n",
       "         0.12144627, -0.16332781, -0.32101564, -0.0102791 , -0.16332781,\n",
       "        -0.18929027, -0.01189735, -0.16332781, -0.18767203,  0.07652714,\n",
       "        -0.16332781, -0.27609652, -0.16818456, -0.16332781, -0.03138481,\n",
       "        -0.1855018 , -0.16332781, -0.01406758,  0.56002528, -0.13834462,\n",
       "        -0.78457785, -0.12348387, -0.24543391,  0.15287576, -0.14685517]])"
      ]
     },
     "execution_count": 19,
     "metadata": {},
     "output_type": "execute_result"
    }
   ],
   "source": [
    "clf.coef_"
   ]
  },
  {
   "cell_type": "code",
   "execution_count": 20,
   "metadata": {},
   "outputs": [],
   "source": [
    "c = dict(zip(predictors, abs(clf_cv.coef_[0])))"
   ]
  },
  {
   "cell_type": "code",
   "execution_count": 21,
   "metadata": {},
   "outputs": [
    {
     "data": {
      "text/plain": [
       "{'tenure': 1.3247756751072672,\n",
       " 'MonthlyCharges': 0.19089260135072894,\n",
       " 'TotalCharges': 0.5535666523317002,\n",
       " 'gender': 0.05009855624704442,\n",
       " 'SeniorCitizen': 0.14494035023210206,\n",
       " 'Partner': 0.07413447226537703,\n",
       " 'Dependents': 0.14384468352690863,\n",
       " 'PhoneService': 0.2554532908329265,\n",
       " 'PaperlessBilling': 0.3323935396741058,\n",
       " 'MultipleLines_No': 0.25475800610823385,\n",
       " 'MultipleLines_No phone service': 0.2316493465483333,\n",
       " 'MultipleLines_Yes': 0.0006952847246910186,\n",
       " 'InternetService_DSL': 0.2814743698623616,\n",
       " 'InternetService_Fiber optic': 0.32523326840553984,\n",
       " 'InternetService_No': 0.06756284282776945,\n",
       " 'OnlineSecurity_No': 0.2356961013104173,\n",
       " 'OnlineSecurity_No internet service': 0.06756284282776945,\n",
       " 'OnlineSecurity_Yes': 0.19193720276724016,\n",
       " 'OnlineBackup_No': 0.10143768762471045,\n",
       " 'OnlineBackup_No internet service': 0.06756284282776945,\n",
       " 'OnlineBackup_Yes': 0.05767878908153275,\n",
       " 'DeviceProtection_No': 0.1009380674227387,\n",
       " 'DeviceProtection_No internet service': 0.06756284282776945,\n",
       " 'DeviceProtection_Yes': 0.05717916887956125,\n",
       " 'TechSupport_No': 0.1901003776501018,\n",
       " 'TechSupport_No internet service': 0.06756284282776945,\n",
       " 'TechSupport_Yes': 0.14634147910692435,\n",
       " 'StreamingTV_No': 0.06524348887091116,\n",
       " 'StreamingTV_No internet service': 0.06756284282776945,\n",
       " 'StreamingTV_Yes': 0.10900238741408831,\n",
       " 'StreamingMovies_No': 0.08153166976991902,\n",
       " 'StreamingMovies_No internet service': 0.06756284282776945,\n",
       " 'StreamingMovies_Yes': 0.12529056831309582,\n",
       " 'Contract_Month-to-month': 0.6592708363498503,\n",
       " 'Contract_One year': 0.033650512969568884,\n",
       " 'Contract_Two year': 0.649424267664877,\n",
       " 'PaymentMethod_Bank transfer (automatic)': 0.04302247421076186,\n",
       " 'PaymentMethod_Credit card (automatic)': 0.16233852166393217,\n",
       " 'PaymentMethod_Electronic check': 0.23944211174725788,\n",
       " 'PaymentMethod_Mailed check': 0.05788506015715639}"
      ]
     },
     "execution_count": 21,
     "metadata": {},
     "output_type": "execute_result"
    }
   ],
   "source": [
    "c"
   ]
  },
  {
   "cell_type": "code",
   "execution_count": 22,
   "metadata": {},
   "outputs": [
    {
     "data": {
      "text/plain": [
       "dict_keys(['tenure', 'Contract_Month-to-month', 'Contract_Two year', 'TotalCharges', 'PaperlessBilling', 'InternetService_Fiber optic', 'InternetService_DSL', 'PhoneService', 'MultipleLines_No', 'PaymentMethod_Electronic check'])"
      ]
     },
     "execution_count": 22,
     "metadata": {},
     "output_type": "execute_result"
    }
   ],
   "source": [
    "dict(Counter(c).most_common(10)).keys()"
   ]
  },
  {
   "cell_type": "code",
   "execution_count": 38,
   "metadata": {},
   "outputs": [
    {
     "data": {
      "text/plain": [
       "[('accuracy', 0.7835344215755855),\n",
       " ('precision', 0.5755395683453237),\n",
       " ('recall', 0.6521739130434783)]"
      ]
     },
     "execution_count": 38,
     "metadata": {},
     "output_type": "execute_result"
    }
   ],
   "source": [
    "results = list()\n",
    "y_pred_new_threshold = (clf.predict_proba(test[predictors])[:, 1] >= 0.4).astype(int) \n",
    "for m in  ['accuracy', 'precision', 'recall']:\n",
    "    results.append((m, eval(\"{}_score\".format(m))(test['Churn'], y_pred_new_threshold)))\n",
    "results"
   ]
  },
  {
   "cell_type": "code",
   "execution_count": 24,
   "metadata": {},
   "outputs": [],
   "source": [
    "def logistic_regression(frame, metrics, cv):\n",
    "    train, test = train_test_split(frame, test_size=0.2, random_state=50)\n",
    "    predictors = [c for c in train.columns if c not in ['customerID', 'Churn']]\n",
    "    if cv == False:\n",
    "        clf = LogisticRegression()\n",
    "    else:\n",
    "        clf = LogisticRegressionCV(cv=5, random_state=0)\n",
    "    clf.fit(train[predictors], train['Churn'])\n",
    "    y_pred = clf.predict(test[predictors])\n",
    "    y_prob = clf.predict_proba(test[predictors])[:, 1]\n",
    "    results = list()\n",
    "\n",
    "    for m in metrics:\n",
    "        if m == 'roc_auc':\n",
    "            results.append((m, roc_auc_score(test['Churn'], y_prob)))\n",
    "        else:\n",
    "            results.append((m, eval(\"{}_score\".format(m))(test['Churn'], y_pred)))\n",
    "\n",
    "    c = dict(zip(predictors, abs(clf.coef_[0])))\n",
    "    importance = dict(Counter(c).most_common(5)).keys()\n",
    "\n",
    "    cm = confusion_matrix(test['Churn'], y_pred)\n",
    "    especificidade = cm[0][0]/(cm[1][0]+cm[0][0])\n",
    "    sensibilidade = cm[1][1]/(cm[1][1]+cm[0][1])\n",
    "\n",
    "    return results, sensibilidade, especificidade, importance"
   ]
  },
  {
   "cell_type": "code",
   "execution_count": 25,
   "metadata": {},
   "outputs": [
    {
     "data": {
      "text/plain": [
       "([('roc_auc', 0.8398723008812596),\n",
       "  ('accuracy', 0.7998580553584103),\n",
       "  ('precision', 0.6360759493670886),\n",
       "  ('recall', 0.5461956521739131)],\n",
       " 0.8472095150960659,\n",
       " 0.6360759493670886,\n",
       " dict_keys(['tenure', 'Contract_Two year', 'TotalCharges', 'Contract_Month-to-month', 'PhoneService']))"
      ]
     },
     "execution_count": 25,
     "metadata": {},
     "output_type": "execute_result"
    }
   ],
   "source": [
    "logistic_regression(df_processed, metrics, cv = False)"
   ]
  },
  {
   "cell_type": "markdown",
   "metadata": {},
   "source": [
    "### Testando possibilidades"
   ]
  },
  {
   "cell_type": "markdown",
   "metadata": {},
   "source": [
    "Criando features"
   ]
  },
  {
   "cell_type": "code",
   "execution_count": 26,
   "metadata": {},
   "outputs": [
    {
     "data": {
      "text/plain": [
       "([('roc_auc', 0.8401124545796266),\n",
       "  ('accuracy', 0.8041163946061036),\n",
       "  ('precision', 0.6483870967741936),\n",
       "  ('recall', 0.5461956521739131)],\n",
       " 0.8480436760691538,\n",
       " 0.6483870967741936,\n",
       " dict_keys(['tenure', 'Contract_Month-to-month', 'Contract_Two year', 'MonthlyCharges', 'InternetService_Fiber optic']))"
      ]
     },
     "execution_count": 26,
     "metadata": {},
     "output_type": "execute_result"
    }
   ],
   "source": [
    "df_tmp = df_processed.copy()\n",
    "df_tmp['charges_difference'] = df_tmp['TotalCharges'] - df_tmp['tenure']*df_tmp['MonthlyCharges']\n",
    "logistic_regression(df_tmp, metrics, cv = True)"
   ]
  },
  {
   "cell_type": "code",
   "execution_count": 27,
   "metadata": {},
   "outputs": [
    {
     "data": {
      "text/plain": [
       "([('roc_auc', 0.8415324938395355),\n",
       "  ('accuracy', 0.8019872249822569),\n",
       "  ('precision', 0.6403785488958991),\n",
       "  ('recall', 0.5516304347826086)],\n",
       " 0.8489010989010989,\n",
       " 0.6403785488958991,\n",
       " dict_keys(['tenure', 'Contract_Two year', 'Contract_Month-to-month', 'TotalCharges', 'PaperlessBilling']))"
      ]
     },
     "execution_count": 27,
     "metadata": {},
     "output_type": "execute_result"
    }
   ],
   "source": [
    "# Ratio between the tenure multiplied by monthly charges and TotalCharges\n",
    "df_tmp = df_processed.copy()\n",
    "df_tmp['charges_ratio'] = df_tmp['tenure']*df_tmp['MonthlyCharges'] / (df_tmp['TotalCharges'] + 1)\n",
    "logistic_regression(df_tmp, metrics, cv = True)"
   ]
  },
  {
   "cell_type": "code",
   "execution_count": 28,
   "metadata": {},
   "outputs": [
    {
     "data": {
      "text/plain": [
       "([('roc_auc', 0.8417126091133107),\n",
       "  ('accuracy', 0.8034066713981547),\n",
       "  ('precision', 0.6444444444444445),\n",
       "  ('recall', 0.5516304347826086)],\n",
       " 0.8491773308957953,\n",
       " 0.6444444444444445,\n",
       " dict_keys(['tenure', 'Contract_Two year', 'Contract_Month-to-month', 'MonthlyCharges', 'InternetService_Fiber optic']))"
      ]
     },
     "execution_count": 28,
     "metadata": {},
     "output_type": "execute_result"
    }
   ],
   "source": [
    "df_tmp = df_processed.copy()\n",
    "df_tmp['charges_difference'] = df_tmp['TotalCharges'] - df_tmp['tenure']*df_tmp['MonthlyCharges']\n",
    "df_tmp['charges_ratio'] = df_tmp['tenure']*df_tmp['MonthlyCharges'] / (df_tmp['TotalCharges'] + 1)\n",
    "logistic_regression(df_tmp, metrics, cv = True)"
   ]
  },
  {
   "cell_type": "markdown",
   "metadata": {},
   "source": [
    "Balanceamento"
   ]
  },
  {
   "cell_type": "code",
   "execution_count": 29,
   "metadata": {},
   "outputs": [
    {
     "name": "stdout",
     "output_type": "stream",
     "text": [
      "5174 1869 (7043, 41)\n"
     ]
    }
   ],
   "source": [
    "print(\n",
    "    len(df_processed[df_processed[\"Churn\"]==0]),\n",
    "    len(df_processed[df_processed[\"Churn\"]==1]),\n",
    "    df_processed.shape\n",
    ")"
   ]
  },
  {
   "cell_type": "code",
   "execution_count": 30,
   "metadata": {},
   "outputs": [],
   "source": [
    "df_processed_no = df_processed[df_processed[\"Churn\"]==0].sample(n=len(df_processed[df_processed[\"Churn\"]==1]))\n",
    "df_processed_yes = df_processed[df_processed[\"Churn\"]==1]"
   ]
  },
  {
   "cell_type": "code",
   "execution_count": 31,
   "metadata": {},
   "outputs": [],
   "source": [
    "df_processed_balanced = pd.concat([df_processed_no, df_processed_yes])"
   ]
  },
  {
   "cell_type": "code",
   "execution_count": 32,
   "metadata": {},
   "outputs": [
    {
     "data": {
      "text/plain": [
       "(3738, 41)"
      ]
     },
     "execution_count": 32,
     "metadata": {},
     "output_type": "execute_result"
    }
   ],
   "source": [
    "df_processed_balanced.shape"
   ]
  },
  {
   "cell_type": "code",
   "execution_count": 33,
   "metadata": {},
   "outputs": [
    {
     "data": {
      "image/png": "[encoded data removed]",
      "text/plain": [
       "<Figure size 800x300 with 1 Axes>"
      ]
     },
     "metadata": {},
     "output_type": "display_data"
    }
   ],
   "source": [
    "plt.figure(figsize=(8,3))\n",
    "plt.title(\"Distribution for {}\".format(\"tenure\"))\n",
    "ax = sns.distplot(df_processed_balanced[\"tenure\"])"
   ]
  },
  {
   "cell_type": "code",
   "execution_count": 34,
   "metadata": {},
   "outputs": [
    {
     "data": {
      "text/plain": [
       "([('roc_auc', 0.8575310919922476),\n",
       "  ('accuracy', 0.7820855614973262),\n",
       "  ('precision', 0.7823834196891192),\n",
       "  ('recall', 0.7926509186351706)],\n",
       " 0.7817679558011049,\n",
       " 0.7823834196891192,\n",
       " dict_keys(['tenure', 'TotalCharges', 'Contract_Two year', 'Contract_Month-to-month', 'InternetService_Fiber optic']))"
      ]
     },
     "execution_count": 34,
     "metadata": {},
     "output_type": "execute_result"
    }
   ],
   "source": [
    "logistic_regression(df_processed_balanced, metrics, cv = True)"
   ]
  },
  {
   "cell_type": "code",
   "execution_count": 35,
   "metadata": {},
   "outputs": [
    {
     "data": {
      "text/plain": [
       "([('roc_auc', 0.8616790748567873),\n",
       "  ('accuracy', 0.7927807486631016),\n",
       "  ('precision', 0.7825),\n",
       "  ('recall', 0.821522309711286)],\n",
       " 0.8045977011494253,\n",
       " 0.7825,\n",
       " dict_keys(['tenure', 'Contract_Two year', 'Contract_Month-to-month', 'TotalCharges', 'InternetService_Fiber optic']))"
      ]
     },
     "execution_count": 35,
     "metadata": {},
     "output_type": "execute_result"
    }
   ],
   "source": [
    "df_tmp = df_processed_balanced.copy()\n",
    "df_tmp['charges_difference'] = df_tmp['TotalCharges'] - df_tmp['tenure']*df_tmp['MonthlyCharges']\n",
    "df_tmp['charges_ratio'] = df_tmp['tenure']*df_tmp['MonthlyCharges'] / (df_tmp['TotalCharges'] + 1)\n",
    "logistic_regression(df_tmp, metrics, cv = True)"
   ]
  }
 ],
 "metadata": {
  "kernelspec": {
   "display_name": "Python 3",
   "language": "python",
   "name": "python3"
  },
  "language_info": {
   "codemirror_mode": {
    "name": "ipython",
    "version": 3
   },
   "file_extension": ".py",
   "mimetype": "text/x-python",
   "name": "python",
   "nbconvert_exporter": "python",
   "pygments_lexer": "ipython3",
   "version": "3.11.4"
  }
 },
 "nbformat": 4,
 "nbformat_minor": 2
}
