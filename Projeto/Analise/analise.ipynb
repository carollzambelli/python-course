{
 "cells": [
  {
   "cell_type": "markdown",
   "id": "59a116ca",
   "metadata": {},
   "source": [
    "#### Exercício\n",
    "\n",
    "A partir das tabelas cadastro.csv  e vendas.csv, resolva as seguintes questões:\n",
    "\n",
    "- i.\tQual a pessoa (cod_cadastro) que gastou mais? e a que gastou menos?\n",
    "- ii.\tQual a região de procedência que gasta mais?\n",
    "- iii.\tQual o produto que mais é vendido em quantidade?\n",
    "- iv.\tExiste alguma característica da que identifique o grupo das pessoas (top 5) que compram mais produtos em quantidade? E as que gastam mais dinheiro? \n",
    "- v.\tVocê consegue ver alguma relação entre o grau de instrução e o número de filhos? Descreva a sua interpretação do caso, utilizando os dados para justificar as suas conclusões.\n",
    "- vi.\tImagine que a empresa em questão queira desenvolver um programa de cashback de benefícios baseada no perfil dos clientes, sendo assim, o primeiro passo seria desenvolver este perfil. Proponha um critério para classificar os clientes em clientes diamante, ouro e prata . Justifique a sua resposta.\n"
   ]
  }
 ],
 "metadata": {
  "language_info": {
   "name": "python"
  }
 },
 "nbformat": 4,
 "nbformat_minor": 5
}
